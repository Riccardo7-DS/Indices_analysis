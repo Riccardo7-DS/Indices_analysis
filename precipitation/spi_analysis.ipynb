{
 "cells": [
  {
   "cell_type": "code",
   "execution_count": 1,
   "metadata": {},
   "outputs": [],
   "source": [
    "import xarray as xr\n",
    "from merge_daily_data import load_config, cut_file\n",
    "import os\n",
    "import pandas as pd\n",
    "import time\n",
    "import geopandas as gpd\n",
    "from shapely.geometry import Polygon, mapping\n",
    "from SPI_wet_dry import spiObject\n",
    "\n",
    "CONFIG_PATH = r\"../config.yaml\"\n",
    "config = load_config(CONFIG_PATH)"
   ]
  },
  {
   "cell_type": "code",
   "execution_count": 2,
   "metadata": {},
   "outputs": [
    {
     "name": "stdout",
     "output_type": "stream",
     "text": [
      "Computed new variables for xarray\n"
     ]
    }
   ],
   "source": [
    "\n",
    "path_spi = config['SPI']['CHIRPS']['path']\n",
    "countries = ['Ethiopia','Somalia','Kenya']\n",
    "aggr = 'season'\n",
    "file_path = (os.path.join(path_spi, 'CHIRPS_spi_gamma_30.nc'))\n",
    "spi = spiObject(file_path)\n",
    "shapefile_path = os.path.join('..',config['SHAPE']['africa'])\n",
    "aggregation = 'time.{}'.format(aggr)\n",
    "#### Chose subset of countries\n",
    "gdf = gpd.read_file(shapefile_path)\n",
    "subset = gdf[gdf.ADM0_NAME.isin(countries)]\n",
    "###open file and cut it\n",
    "spi.xr = cut_file(xr.open_dataset(file_path, chunks={\"lat\": -1, \"lon\": -1, \"time\": 12}), subset)\n",
    "\n",
    "res_xr = cut_file(spi.calculate_points_xr(), subset)\n",
    "\n",
    "\n",
    "\n",
    "for year in range(2009,2010):\n",
    "        season_xr = res_xr.sel(time=slice('{}-01-01'.format(year), '{}-12-31'.format(year)))\\\n",
    "        .groupby(aggregation).mean(dim=\"time\")\n",
    "\n",
    "for country in countries[0]:\n",
    "        # get the start time\n",
    "    st = time.time()\n",
    "    for i, season in enumerate((\"DJF\", \"MAM\", \"JJA\", \"SON\")):\n",
    "        mean_dry = season_xr[\"dry\"].sel(season=season).mean(['lon','lat']).values\n",
    "        mean_wet = season_xr[\"wet\"].sel(season=season).mean(['lon','lat']).values"
   ]
  },
  {
   "cell_type": "code",
   "execution_count": 3,
   "metadata": {},
   "outputs": [
    {
     "data": {
      "text/plain": [
       "(array([1.1494e+04, 3.9400e+02, 1.7200e+02, 6.9000e+01, 5.8000e+01,\n",
       "        1.9000e+01, 2.6000e+01, 1.7000e+01, 8.0000e+00, 1.9000e+01]),\n",
       " array([0.        , 0.03296703, 0.06593407, 0.0989011 , 0.13186813,\n",
       "        0.16483516, 0.1978022 , 0.23076923, 0.26373626, 0.2967033 ,\n",
       "        0.32967033]),\n",
       " <BarContainer object of 10 artists>)"
      ]
     },
     "execution_count": 3,
     "metadata": {},
     "output_type": "execute_result"
    },
    {
     "data": {
      "image/png": "[encoded data removed]",
      "text/plain": [
       "<Figure size 432x288 with 1 Axes>"
      ]
     },
     "metadata": {
      "needs_background": "light"
     },
     "output_type": "display_data"
    }
   ],
   "source": [
    "season_xr['wet'].plot()"
   ]
  },
  {
   "cell_type": "code",
   "execution_count": 4,
   "metadata": {},
   "outputs": [
    {
     "data": {
      "text/plain": [
       "array(0.00973936)"
      ]
     },
     "execution_count": 4,
     "metadata": {},
     "output_type": "execute_result"
    }
   ],
   "source": [
    "mean_wet"
   ]
  }
 ],
 "metadata": {
  "kernelspec": {
   "display_name": "Python 3.10.2 ('gis_py39')",
   "language": "python",
   "name": "python3"
  },
  "language_info": {
   "codemirror_mode": {
    "name": "ipython",
    "version": 3
   },
   "file_extension": ".py",
   "mimetype": "text/x-python",
   "name": "python",
   "nbconvert_exporter": "python",
   "pygments_lexer": "ipython3",
   "version": "3.10.2"
  },
  "orig_nbformat": 4,
  "vscode": {
   "interpreter": {
    "hash": "ecd06b5a4e0f75aa40988b0aa4b63b67c6d959aa7282118c4702f8fe8ae3a337"
   }
  }
 },
 "nbformat": 4,
 "nbformat_minor": 2
}
