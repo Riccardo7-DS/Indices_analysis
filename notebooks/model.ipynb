{
 "cells": [
  {
   "attachments": {},
   "cell_type": "markdown",
   "metadata": {},
   "source": [
    "Smoothed NDVI"
   ]
  },
  {
   "cell_type": "code",
   "execution_count": 1,
   "metadata": {},
   "outputs": [
    {
     "name": "stderr",
     "output_type": "stream",
     "text": [
      "/home/woden/anaconda3/envs/ric_gis2_py39/lib/python3.9/site-packages/torchvision/io/image.py:13: UserWarning: Failed to load image Python extension: libtorch_cuda_cu.so: cannot open shared object file: No such file or directory\n",
      "  warn(f\"Failed to load image Python extension: {e}\")\n",
      "2023-07-05 17:09:28.510780: I tensorflow/core/platform/cpu_feature_guard.cc:193] This TensorFlow binary is optimized with oneAPI Deep Neural Network Library (oneDNN) to use the following CPU instructions in performance-critical operations:  SSE4.1 SSE4.2 AVX AVX2 AVX512F FMA\n",
      "To enable them in other operations, rebuild TensorFlow with the appropriate compiler flags.\n"
     ]
    }
   ],
   "source": [
    "import xarray as xr\n",
    "import numpy as np\n",
    "import torch\n",
    "from torchvision import transforms\n",
    "import os\n",
    "from p_drought_indices.functions.function_clns import load_config, prepare, CNN_preprocessing\n",
    "import numpy as np\n",
    "import torch\n",
    "from torch.utils.data import Dataset\n",
    "from p_drought_indices.analysis.DeepLearning.dataset import CustomDataset\n",
    "from torch.utils.data import DataLoader\n",
    "import matplotlib.pyplot as plt\n",
    "from p_drought_indices.functions.ndvi_functions import get_irradiances, compute_ndvi_corr\n",
    "\n",
    "CONFIG_PATH= \"../config.yaml\"\n",
    "\n",
    "config_file = load_config(CONFIG_PATH=CONFIG_PATH)\n",
    "\n",
    "ndvi_dir = config_file['NDVI']['ndvi_prep']\n",
    "    \n",
    "new_dir = os.path.join(ndvi_dir,\"new_process\")\n",
    "list_files_2 = [os.path.join(new_dir, f) for f in os.listdir(new_dir) if f.endswith(\".nc\")]\n",
    "\n",
    "ds = xr.open_dataset(list_files_2[1000])\n",
    "\n",
    "msg_type = ds.attrs['EPCT_product_name'][:4]\n",
    "\n",
    "girradiance_vis6, irradiance_vis8 = get_irradiances(msg_type)"
   ]
  },
  {
   "cell_type": "code",
   "execution_count": 2,
   "metadata": {},
   "outputs": [],
   "source": [
    "import xarray as xr\n",
    "import numpy as np\n",
    "import torch\n",
    "from torchvision import transforms\n",
    "import os\n",
    "from p_drought_indices.functions.function_clns import load_config, prepare, CNN_preprocessing\n",
    "import numpy as np\n",
    "import torch\n",
    "from torch.utils.data import Dataset\n",
    "from p_drought_indices.analysis.DeepLearning.dataset import CustomDataset\n",
    "from torch.utils.data import DataLoader\n",
    "import matplotlib.pyplot as plt\n",
    "\n",
    "CONFIG_PATH= \"../config.yaml\"\n",
    "\n",
    "config_file = load_config(CONFIG_PATH=CONFIG_PATH)\n",
    "\n",
    "# Open the NetCDF file with xarray\n",
    "ds = xr.open_dataset(os.path.join(config_file['NDVI']['ndvi_path'], 'ndvi_no_out.nc'))\n",
    "ds_ndvi = xr.open_dataset(os.path.join(config_file['NDVI']['ndvi_prep'], 'final_ndvi.nc'))\n",
    "ds_smoot = xr.open_dataset(os.path.join(config_file['NDVI']['ndvi_path'], 'smoothed_ndvi_1.nc'))\n",
    "vci = xr.open_dataset(os.path.join(config_file['NDVI']['ndvi_path'], 'vci_1D.nc'))"
   ]
  },
  {
   "cell_type": "code",
   "execution_count": null,
   "metadata": {},
   "outputs": [],
   "source": [
    "import pandas as pd \n",
    "from datetime import timedelta\n",
    "\n",
    "from p_drought_indices.analysis.visualizations.viz_series import plot_ndvi_days\n",
    "\n",
    "plot_ndvi_days(ds_smoot,\n",
    "               start_day=\"2010-01-01\",\n",
    "                num_timesteps=15)"
   ]
  },
  {
   "cell_type": "code",
   "execution_count": 1,
   "metadata": {},
   "outputs": [
    {
     "name": "stderr",
     "output_type": "stream",
     "text": [
      "/home/woden/anaconda3/envs/ric_gis2_py39/lib/python3.9/site-packages/torchvision/io/image.py:13: UserWarning: Failed to load image Python extension: libtorch_cuda_cu.so: cannot open shared object file: No such file or directory\n",
      "  warn(f\"Failed to load image Python extension: {e}\")\n",
      "2023-07-05 18:29:07.576960: I tensorflow/core/platform/cpu_feature_guard.cc:193] This TensorFlow binary is optimized with oneAPI Deep Neural Network Library (oneDNN) to use the following CPU instructions in performance-critical operations:  SSE4.1 SSE4.2 AVX AVX2 AVX512F FMA\n",
      "To enable them in other operations, rebuild TensorFlow with the appropriate compiler flags.\n"
     ]
    }
   ],
   "source": [
    "import xarray as xr\n",
    "import numpy as np\n",
    "import torch\n",
    "from torchvision import transforms\n",
    "import os\n",
    "from p_drought_indices.functions.function_clns import load_config, prepare, CNN_preprocessing, get_lat_lon_window\n",
    "import numpy as np\n",
    "import torch\n",
    "from torch.utils.data import Dataset\n",
    "from p_drought_indices.analysis.DeepLearning.dataset import CustomDataset\n",
    "from torch.utils.data import DataLoader\n",
    "import pickle\n",
    "\n",
    "CONFIG_PATH= \"../config.yaml\"\n",
    "\n",
    "time_end = \"2019-12-31\"\n",
    "time_start = \"2005-01-01\"\n",
    "\n",
    "\n",
    "def spi_ndvi_convlstm():\n",
    "    config_file = load_config(CONFIG_PATH=CONFIG_PATH)\n",
    "\n",
    "    # Open the NetCDF file with xarray\n",
    "    dataset = prepare(xr.open_dataset(os.path.join(config_file['NDVI']['ndvi_path'], 'smoothed_ndvi_1.nc'))).sel(time=slice(time_start,time_end))\n",
    "\n",
    "    prod = \"ERA5\"\n",
    "    late = 90\n",
    "\n",
    "    path = config_file['SPI']['ERA5']['path']\n",
    "    file = f\"ERA5_spi_gamma_{late}.nc\"\n",
    "    precp_ds = xr.open_dataset(os.path.join(path, file))\n",
    "    var_target = \"spi_gamma_{}\".format(late)\n",
    "    print(f\"The {prod} raster has spatial dimensions:\", precp_ds.rio.resolution())\n",
    "\n",
    "    #### training parameters\n",
    "    train_split = 0.8\n",
    "    batch_size=4\n",
    "    dim=64\n",
    "    preprocess_type=\"nearest\"\n",
    "\n",
    "    ### Load dataset\n",
    "    file_path = os.path.join(config_file[\"DEFAULT\"][\"data\"],'preprocessed_data.pkl')\n",
    "    if os.path.exists(file_path):\n",
    "        print(\"The file exists. Proceeding with the analysis\")\n",
    "        with open(file_path, 'rb') as file:\n",
    "            train_data, test_data, train_label, test_label = pickle.load(file)\n",
    "    else:\n",
    "        print(\"The file does not exist. Proceeding with preprocessing\")\n",
    "        idx_lat, lat_max, idx_lon, lon_min = get_lat_lon_window(precp_ds, dim)\n",
    "        sub_precp = prepare(precp_ds).sel(time=slice(time_start,time_end))\\\n",
    "            .sel(lat=slice(lat_max, idx_lat), lon=slice(lon_min, idx_lon))\n",
    "        ds = dataset[\"ndvi\"].rio.reproject_match(sub_precp[var_target]).rename({'x':'lon','y':'lat'})\n",
    "\n",
    "        \n",
    "\n",
    "        train_data, test_data, train_label, test_label = CNN_preprocessing(ds, sub_precp, var_origin=\"ndvi\", var_target=var_target, preprocess_type=preprocess_type,  split=train_split)\n",
    "        # Save the image data using pickle\n",
    "        with open(file_path, 'wb') as file:\n",
    "            pickle.dump((train_data, test_data, train_label, test_label), file)\n",
    "        print(\"Data written to pickle file\")\n",
    "\n",
    "    # create a CustomDataset object using the reshaped input data\n",
    "    train_dataset = CustomDataset(train_data, train_label)\n",
    "    test_dataset = CustomDataset(test_data, test_label)\n",
    "    \n",
    "    # create a DataLoader object that uses the dataset\n",
    "    train_dataloader = DataLoader(train_dataset, batch_size=batch_size, shuffle=True)\n",
    "    test_dataloader = DataLoader(test_dataset, batch_size=batch_size, shuffle=True)\n",
    "    \n",
    "    \n",
    "    ### check shape of data\n",
    "    \n",
    "    for batch_idx, (inputs, targets) in enumerate(train_dataloader):\n",
    "        inputs = inputs.float()\n",
    "        targets = targets.float()\n",
    "        print(inputs.shape, targets.shape, inputs.max(), inputs.min())\n",
    "    \n",
    "    \n",
    "    for batch_idx, (inputs, targets) in enumerate(test_dataloader):\n",
    "        inputs = inputs.float()\n",
    "        targets = targets.float()\n",
    "        print(inputs.shape, targets.shape, inputs.max(), inputs.min())\n",
    "\n",
    "\n",
    "    #### Start training\n",
    "\n",
    "    from p_drought_indices.configs.config_3x3_16_3x3_32_3x3_64 import config\n",
    "    from torch.nn import MSELoss\n",
    "    import matplotlib.pyplot as plt\n",
    "    from p_drought_indices.analysis.DeepLearning.ConvLSTM import ConvLSTM, train_loop, valid_loop, build_logging\n",
    "    import numpy as np\n",
    "    \n",
    "    name = '3x3_16_3x3_32_3x3_64'\n",
    "    \n",
    "    logger = build_logging(config)\n",
    "    model = ConvLSTM(config).to(config.device)\n",
    "    #criterion = CrossEntropyLoss().to(config.device)\n",
    "    #criterion = torch.nn.MSELoss().to(config.device)\n",
    "    criterion = MSELoss().to(config.device)\n",
    "    optimizer = torch.optim.Adam(model.parameters(), lr=1e-3)\n",
    "    train_records, valid_records, test_records = [], [], []\n",
    "    for epoch in range(config.epochs):\n",
    "        epoch_records = train_loop(config, logger, epoch, model, train_dataloader, criterion, optimizer)\n",
    "        train_records.append(np.mean(epoch_records['loss']))\n",
    "        epoch_records = valid_loop(config, logger, epoch, model, test_dataloader, criterion)\n",
    "        valid_records.append(np.mean(epoch_records['loss']))\n",
    "        plt.plot(range(epoch + 1), train_records, label='train')\n",
    "        plt.plot(range(epoch + 1), valid_records, label='valid')\n",
    "        plt.legend()\n",
    "        plt.savefig(os.path.join(config.output_dir, '{m}_{n}.png'.format(n=name, m=preprocess_type)))\n",
    "        plt.close()\n",
    "    "
   ]
  },
  {
   "cell_type": "code",
   "execution_count": 2,
   "metadata": {},
   "outputs": [
    {
     "name": "stdout",
     "output_type": "stream",
     "text": [
      "The ERA5 raster has spatial dimensions: (0.25, -0.25)\n",
      "The file exists. Proceeding with the analysis\n",
      "torch.Size([1, 4382, 1, 64, 64]) torch.Size([1, 4382, 1, 64, 64]) tensor(3.0900) tensor(-3.0900)\n",
      "torch.Size([1, 1096, 1, 64, 64]) torch.Size([1, 1096, 1, 64, 64]) tensor(3.0900) tensor(-3.0900)\n",
      "/media/BIFROST/N2/Riccardo/Indices_analysis/notebooks/.\n",
      "tensor(3.0900, dtype=torch.float64)\n"
     ]
    },
    {
     "ename": "UnboundLocalError",
     "evalue": "local variable 'preprocess_type' referenced before assignment",
     "output_type": "error",
     "traceback": [
      "\u001b[0;31m---------------------------------------------------------------------------\u001b[0m",
      "\u001b[0;31mUnboundLocalError\u001b[0m                         Traceback (most recent call last)",
      "Cell \u001b[0;32mIn[2], line 1\u001b[0m\n\u001b[0;32m----> 1\u001b[0m spi_ndvi_convlstm()\n",
      "Cell \u001b[0;32mIn[1], line 109\u001b[0m, in \u001b[0;36mspi_ndvi_convlstm\u001b[0;34m()\u001b[0m\n\u001b[1;32m    107\u001b[0m plt\u001b[39m.\u001b[39mplot(\u001b[39mrange\u001b[39m(epoch \u001b[39m+\u001b[39m \u001b[39m1\u001b[39m), valid_records, label\u001b[39m=\u001b[39m\u001b[39m'\u001b[39m\u001b[39mvalid\u001b[39m\u001b[39m'\u001b[39m)\n\u001b[1;32m    108\u001b[0m plt\u001b[39m.\u001b[39mlegend()\n\u001b[0;32m--> 109\u001b[0m plt\u001b[39m.\u001b[39msavefig(os\u001b[39m.\u001b[39mpath\u001b[39m.\u001b[39mjoin(config\u001b[39m.\u001b[39moutput_dir, \u001b[39m'\u001b[39m\u001b[39m{m}\u001b[39;00m\u001b[39m_\u001b[39m\u001b[39m{n}\u001b[39;00m\u001b[39m.png\u001b[39m\u001b[39m'\u001b[39m\u001b[39m.\u001b[39mformat(n\u001b[39m=\u001b[39mname, m\u001b[39m=\u001b[39mpreprocess_type)))\n\u001b[1;32m    110\u001b[0m plt\u001b[39m.\u001b[39mclose()\n",
      "\u001b[0;31mUnboundLocalError\u001b[0m: local variable 'preprocess_type' referenced before assignment"
     ]
    },
    {
     "data": {
      "image/png": "[encoded data removed]",
      "text/plain": [
       "<Figure size 640x480 with 1 Axes>"
      ]
     },
     "metadata": {},
     "output_type": "display_data"
    }
   ],
   "source": [
    "spi_ndvi_convlstm()"
   ]
  }
 ],
 "metadata": {
  "kernelspec": {
   "display_name": "torch_env",
   "language": "python",
   "name": "python3"
  },
  "language_info": {
   "codemirror_mode": {
    "name": "ipython",
    "version": 3
   },
   "file_extension": ".py",
   "mimetype": "text/x-python",
   "name": "python",
   "nbconvert_exporter": "python",
   "pygments_lexer": "ipython3",
   "version": "3.9.16"
  },
  "orig_nbformat": 4
 },
 "nbformat": 4,
 "nbformat_minor": 2
}
