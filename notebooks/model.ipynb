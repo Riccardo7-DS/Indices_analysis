{
 "cells": [
  {
   "attachments": {},
   "cell_type": "markdown",
   "metadata": {},
   "source": [
    "Smoothed NDVI"
   ]
  },
  {
   "cell_type": "code",
   "execution_count": null,
   "metadata": {},
   "outputs": [],
   "source": [
    "import xarray as xr\n",
    "import numpy as np\n",
    "import torch\n",
    "from torchvision import transforms\n",
    "import os\n",
    "from p_drought_indices.functions.function_clns import load_config, prepare, CNN_preprocessing\n",
    "import numpy as np\n",
    "import torch\n",
    "from torch.utils.data import Dataset\n",
    "from p_drought_indices.analysis.DeepLearning.dataset import CustomDataset\n",
    "from torch.utils.data import DataLoader\n",
    "import matplotlib.pyplot as plt\n",
    "from p_drought_indices.functions.ndvi_functions import get_irradiances, compute_ndvi_corr\n",
    "\n",
    "CONFIG_PATH= \"../config.yaml\"\n",
    "\n",
    "config_file = load_config(CONFIG_PATH=CONFIG_PATH)\n",
    "\n",
    "ndvi_dir = config_file['NDVI']['ndvi_prep']\n",
    "    \n",
    "new_dir = os.path.join(ndvi_dir,\"new_process\")\n",
    "list_files_2 = [os.path.join(new_dir, f) for f in os.listdir(new_dir) if f.endswith(\".nc\")]\n",
    "\n",
    "ds = xr.open_dataset(list_files_2[1000])\n",
    "\n",
    "msg_type = ds.attrs['EPCT_product_name'][:4]\n",
    "\n",
    "girradiance_vis6, irradiance_vis8 = get_irradiances(msg_type)"
   ]
  },
  {
   "cell_type": "code",
   "execution_count": null,
   "metadata": {},
   "outputs": [],
   "source": [
    "import xarray as xr\n",
    "import numpy as np\n",
    "import torch\n",
    "from torchvision import transforms\n",
    "import os\n",
    "from p_drought_indices.functions.function_clns import load_config, prepare, CNN_preprocessing\n",
    "import numpy as np\n",
    "import torch\n",
    "from torch.utils.data import Dataset\n",
    "from p_drought_indices.analysis.DeepLearning.dataset import CustomDataset\n",
    "from torch.utils.data import DataLoader\n",
    "import matplotlib.pyplot as plt\n",
    "\n",
    "CONFIG_PATH= \"../config.yaml\"\n",
    "\n",
    "config_file = load_config(CONFIG_PATH=CONFIG_PATH)\n",
    "\n",
    "# Open the NetCDF file with xarray\n",
    "ds = xr.open_dataset(os.path.join(config_file['NDVI']['ndvi_path'], 'ndvi_no_out.nc'))\n",
    "ds_ndvi = xr.open_dataset(os.path.join(config_file['NDVI']['ndvi_prep'], 'final_ndvi.nc'))\n",
    "ds_smoot = xr.open_dataset(os.path.join(config_file['NDVI']['ndvi_path'], 'smoothed_ndvi_1.nc'))\n",
    "vci = xr.open_dataset(os.path.join(config_file['NDVI']['ndvi_path'], 'vci_1D.nc'))"
   ]
  },
  {
   "cell_type": "code",
   "execution_count": null,
   "metadata": {},
   "outputs": [],
   "source": [
    "import pandas as pd \n",
    "from datetime import timedelta\n",
    "\n",
    "from p_drought_indices.analysis.visualizations.viz_series import plot_ndvi_days\n",
    "\n",
    "plot_ndvi_days(ds_smoot,\n",
    "               start_day=\"2010-01-01\",\n",
    "                num_timesteps=15)"
   ]
  },
  {
   "cell_type": "code",
   "execution_count": null,
   "metadata": {},
   "outputs": [],
   "source": [
    "import xarray as xr\n",
    "import numpy as np\n",
    "import torch\n",
    "from torchvision import transforms\n",
    "import os\n",
    "from p_drought_indices.functions.function_clns import load_config, prepare, CNN_preprocessing, get_lat_lon_window\n",
    "import numpy as np\n",
    "import torch\n",
    "from torch.utils.data import Dataset\n",
    "from p_drought_indices.analysis.DeepLearning.dataset import CustomDataset\n",
    "from torch.utils.data import DataLoader\n",
    "import pickle\n",
    "\n",
    "CONFIG_PATH= \"../config.yaml\"\n",
    "\n",
    "time_end = \"2019-12-31\"\n",
    "time_start = \"2005-01-01\"\n",
    "\n",
    "\n",
    "def spi_ndvi_convlstm():\n",
    "    config_file = load_config(CONFIG_PATH=CONFIG_PATH)\n",
    "\n",
    "    # Open the NetCDF file with xarray\n",
    "    dataset = prepare(xr.open_dataset(os.path.join(config_file['NDVI']['ndvi_path'], 'smoothed_ndvi_1.nc'))).sel(time=slice(time_start,time_end))\n",
    "\n",
    "    prod = \"ERA5\"\n",
    "    late = 90\n",
    "\n",
    "    path = config_file['SPI']['ERA5']['path']\n",
    "    file = \"era5_land_merged.nc\" #f\"ERA5_spi_gamma_{late}.nc\"\n",
    "    precp_ds = xr.open_dataset(os.path.join(path, file))\n",
    "    var_target = \"spi_gamma_{}\".format(late)\n",
    "    print(f\"The {prod} raster has spatial dimensions:\", precp_ds.rio.resolution())\n",
    "\n",
    "    #### training parameters\n",
    "    train_split = 0.8\n",
    "    batch_size=4\n",
    "    dim=64\n",
    "    preprocess_type=\"None\"\n",
    "\n",
    "    ### Load dataset\n",
    "    file_path = os.path.join(config_file[\"DEFAULT\"][\"data\"],'preprocessed_data.pkl')\n",
    "    if os.path.exists(file_path):\n",
    "        print(\"The file exists. Proceeding with the analysis\")\n",
    "        with open(file_path, 'rb') as file:\n",
    "            train_data, test_data, train_label, test_label = pickle.load(file)\n",
    "    else:\n",
    "        print(\"The file does not exist. Proceeding with preprocessing\")\n",
    "        idx_lat, lat_max, idx_lon, lon_min = get_lat_lon_window(precp_ds, dim)\n",
    "        sub_precp = prepare(precp_ds).sel(time=slice(time_start,time_end))\\\n",
    "            .sel(lat=slice(lat_max, idx_lat), lon=slice(lon_min, idx_lon))\n",
    "        ds = dataset[\"ndvi\"].rio.reproject_match(sub_precp[var_target]).rename({'x':'lon','y':'lat'})\n",
    "\n",
    "        \n",
    "\n",
    "        train_data, test_data, train_label, test_label = CNN_preprocessing(ds, sub_precp, var_origin=\"ndvi\", var_target=var_target, preprocess_type=preprocess_type,  split=train_split)\n",
    "        # Save the image data using pickle\n",
    "        with open(file_path, 'wb') as file:\n",
    "            pickle.dump((train_data, test_data, train_label, test_label), file)\n",
    "        print(\"Data written to pickle file\")\n",
    "\n",
    "    # create a CustomDataset object using the reshaped input data\n",
    "    train_dataset = CustomDataset(train_data, train_label)\n",
    "    test_dataset = CustomDataset(test_data, test_label)\n",
    "    \n",
    "    # create a DataLoader object that uses the dataset\n",
    "    train_dataloader = DataLoader(train_dataset, batch_size=batch_size, shuffle=True)\n",
    "    test_dataloader = DataLoader(test_dataset, batch_size=batch_size, shuffle=True)\n",
    "    \n",
    "    \n",
    "    ### check shape of data\n",
    "    \n",
    "    for batch_idx, (inputs, targets) in enumerate(train_dataloader):\n",
    "        inputs = inputs.float()\n",
    "        targets = targets.float()\n",
    "        print(inputs.shape, targets.shape, inputs.max(), inputs.min())\n",
    "    \n",
    "    \n",
    "    for batch_idx, (inputs, targets) in enumerate(test_dataloader):\n",
    "        inputs = inputs.float()\n",
    "        targets = targets.float()\n",
    "        print(inputs.shape, targets.shape, inputs.max(), inputs.min())\n",
    "\n",
    "\n",
    "    #### Start training\n",
    "\n",
    "    from p_drought_indices.configs.config_3x3_16_3x3_32_3x3_64 import config\n",
    "    from torch.nn import MSELoss\n",
    "    import matplotlib.pyplot as plt\n",
    "    from p_drought_indices.analysis.DeepLearning.ConvLSTM import ConvLSTM, train_loop, valid_loop, build_logging\n",
    "    import numpy as np\n",
    "    \n",
    "    name = '3x3_16_3x3_32_3x3_64'\n",
    "    \n",
    "    logger = build_logging(config)\n",
    "    model = ConvLSTM(config).to(config.device)\n",
    "    #criterion = CrossEntropyLoss().to(config.device)\n",
    "    #criterion = torch.nn.MSELoss().to(config.device)\n",
    "    criterion = MSELoss().to(config.device)\n",
    "    optimizer = torch.optim.Adam(model.parameters(), lr=1e-3)\n",
    "    train_records, valid_records, test_records = [], [], []\n",
    "    for epoch in range(config.epochs):\n",
    "        epoch_records = train_loop(config, logger, epoch, model, train_dataloader, criterion, optimizer)\n",
    "        train_records.append(np.mean(epoch_records['loss']))\n",
    "        epoch_records = valid_loop(config, logger, epoch, model, test_dataloader, criterion)\n",
    "        valid_records.append(np.mean(epoch_records['loss']))\n",
    "        plt.plot(range(epoch + 1), train_records, label='train')\n",
    "        plt.plot(range(epoch + 1), valid_records, label='valid')\n",
    "        plt.legend()\n",
    "        plt.savefig(os.path.join(config.output_dir, '{m}_{n}.png'.format(n=name, m=preprocess_type)))\n",
    "        plt.close()\n",
    "    "
   ]
  },
  {
   "cell_type": "code",
   "execution_count": null,
   "metadata": {},
   "outputs": [],
   "source": [
    "spi_ndvi_convlstm()"
   ]
  },
  {
   "cell_type": "code",
   "execution_count": 1,
   "metadata": {},
   "outputs": [],
   "source": [
    "import xarray as xr\n",
    "import os\n",
    "import numpy as np\n",
    "from p_drought_indices.functions.function_clns import load_config, subsetting_pipeline\n",
    "from datetime import datetime\n",
    "import pandas as pd\n",
    "\n",
    "CONFIG_PATH= \"../config.yaml\"\n",
    "config_file = load_config(CONFIG_PATH)"
   ]
  },
  {
   "cell_type": "code",
   "execution_count": 22,
   "metadata": {},
   "outputs": [
    {
     "name": "stderr",
     "output_type": "stream",
     "text": [
      "  0%|          | 0/12 [00:00<?, ?it/s]"
     ]
    },
    {
     "name": "stdout",
     "output_type": "stream",
     "text": [
      "Collecting day 1984-01-05...\n"
     ]
    },
    {
     "name": "stderr",
     "output_type": "stream",
     "text": [
      "  8%|▊         | 1/12 [00:12<02:15, 12.28s/it]"
     ]
    },
    {
     "name": "stdout",
     "output_type": "stream",
     "text": [
      "Collecting day 1984-03-10...\n"
     ]
    },
    {
     "name": "stderr",
     "output_type": "stream",
     "text": [
      " 17%|█▋        | 2/12 [00:25<02:10, 13.03s/it]"
     ]
    },
    {
     "name": "stdout",
     "output_type": "stream",
     "text": [
      "Collecting day 1984-06-07...\n"
     ]
    },
    {
     "name": "stderr",
     "output_type": "stream",
     "text": [
      " 25%|██▌       | 3/12 [00:38<01:55, 12.83s/it]"
     ]
    },
    {
     "name": "stdout",
     "output_type": "stream",
     "text": [
      "Collecting day 1984-09-02...\n"
     ]
    },
    {
     "name": "stderr",
     "output_type": "stream",
     "text": [
      " 33%|███▎      | 4/12 [00:50<01:39, 12.43s/it]"
     ]
    },
    {
     "name": "stdout",
     "output_type": "stream",
     "text": [
      "Collecting day 1984-11-17...\n"
     ]
    },
    {
     "name": "stderr",
     "output_type": "stream",
     "text": [
      " 42%|████▏     | 5/12 [01:02<01:25, 12.19s/it]"
     ]
    },
    {
     "name": "stdout",
     "output_type": "stream",
     "text": [
      "Collecting day 2005-01-02...\n"
     ]
    },
    {
     "name": "stderr",
     "output_type": "stream",
     "text": [
      " 50%|█████     | 6/12 [01:14<01:13, 12.20s/it]"
     ]
    },
    {
     "name": "stdout",
     "output_type": "stream",
     "text": [
      "Collecting day 2005-01-03...\n"
     ]
    },
    {
     "name": "stderr",
     "output_type": "stream",
     "text": [
      " 58%|█████▊    | 7/12 [01:26<01:01, 12.25s/it]"
     ]
    },
    {
     "name": "stdout",
     "output_type": "stream",
     "text": [
      "Collecting day 2005-02-20...\n"
     ]
    },
    {
     "name": "stderr",
     "output_type": "stream",
     "text": [
      " 67%|██████▋   | 8/12 [01:37<00:47, 11.90s/it]"
     ]
    },
    {
     "name": "stdout",
     "output_type": "stream",
     "text": [
      "Collecting day 2005-02-21...\n"
     ]
    },
    {
     "name": "stderr",
     "output_type": "stream",
     "text": [
      " 75%|███████▌  | 9/12 [01:49<00:35, 11.82s/it]"
     ]
    },
    {
     "name": "stdout",
     "output_type": "stream",
     "text": [
      "Collecting day 2005-05-18...\n"
     ]
    },
    {
     "name": "stderr",
     "output_type": "stream",
     "text": [
      " 83%|████████▎ | 10/12 [01:59<00:22, 11.40s/it]"
     ]
    },
    {
     "name": "stdout",
     "output_type": "stream",
     "text": [
      "Collecting day 2005-06-23...\n"
     ]
    },
    {
     "name": "stderr",
     "output_type": "stream",
     "text": [
      " 92%|█████████▏| 11/12 [02:11<00:11, 11.49s/it]"
     ]
    },
    {
     "name": "stdout",
     "output_type": "stream",
     "text": [
      "Collecting day 2005-07-01...\n"
     ]
    },
    {
     "name": "stderr",
     "output_type": "stream",
     "text": [
      "100%|██████████| 12/12 [02:23<00:00, 11.94s/it]\n"
     ]
    }
   ],
   "source": [
    "import pandas as pd\n",
    "from datetime import timedelta, datetime\n",
    "from tqdm.auto import tqdm\n",
    "from p_drought_indices.precipitation.data_collection.era5_daily_data import ee_collection\n",
    "import xarray as xr\n",
    "import os\n",
    "from p_drought_indices.functions.function_clns import load_config, subsetting_pipeline\n",
    "\n",
    "CONFIG_PATH= \"../config.yaml\"\n",
    "config = load_config(CONFIG_PATH)\n",
    "\n",
    "for day in tqdm(missing_days):\n",
    "    print(f\"Collecting day {day}...\")\n",
    "    new_day = pd.to_datetime(day) + timedelta(days=1)\n",
    "    end_day = new_day.strftime(\"%Y-%m-%d\")\n",
    "    ee_collection(day, end_day)"
   ]
  },
  {
   "cell_type": "code",
   "execution_count": 2,
   "metadata": {},
   "outputs": [
    {
     "name": "stderr",
     "output_type": "stream",
     "text": [
      "c:\\Users\\Riccardo\\anaconda3\\envs\\gis2_py39\\lib\\site-packages\\tqdm\\auto.py:21: TqdmWarning: IProgress not found. Please update jupyter and ipywidgets. See https://ipywidgets.readthedocs.io/en/stable/user_install.html\n",
      "  from .autonotebook import tqdm as notebook_tqdm\n"
     ]
    },
    {
     "name": "stdout",
     "output_type": "stream",
     "text": [
      "Using GDAL for transforming tif to netcdf...\n"
     ]
    },
    {
     "name": "stderr",
     "output_type": "stream",
     "text": [
      " 85%|████████▌ | 914/1072 [12:13<01:57,  1.34it/s]"
     ]
    }
   ],
   "source": [
    "from p_drought_indices.precipitation.data_collection.era5_daily_data import convert_tif_netcdf\n",
    "\n",
    "base_path = config_file[\"SPI\"][\"ERA5\"][\"path\"]\n",
    "dest_path = os.path.join(base_path,\"era5_netcdf\")\n",
    "path = os.path.join(base_path,\"daily\")\n",
    "\n",
    "convert_tif_netcdf(CONFIG_PATH, base_path, path, dest_path, use_gdal=True, compress=True)"
   ]
  },
  {
   "cell_type": "code",
   "execution_count": null,
   "metadata": {},
   "outputs": [],
   "source": [
    "def check_wrong_precp_days(base_path:str):\n",
    "    path = os.path.join(base_path, \"era5_land_merged.nc\")\n",
    "    precp_ds = subsetting_pipeline(CONFIG_PATH, xr.open_dataset(path))\n",
    "\n",
    "    ### generate mask and count days  smaller than 0\n",
    "    mask = precp_ds['tp'] < 0\n",
    "    summed_mask = mask.sum(dim='time')\n",
    "    arr = mask.sum(dim=[\"lat\",\"lon\"])\n",
    "    print(\"Days with errors:\", len(np.where(arr>0)[0]))\n",
    "\n",
    "    list_arr = np.where(arr>0)[0]\n",
    "    days = [np.datetime_as_string(ds.isel(time=i)[\"time\"].values, unit=\"D\") for i in list_arr]\n",
    "\n",
    "    ds = xr.open_dataset(os.path.join(base_path, \"era5_precp_batch.nc\"), chunks={\"time\":\"200MB\" })\n",
    "    len(np.unique(ds[\"time\"].values))\n",
    "\n",
    "    list_array = [pd.to_datetime(i).strftime(\"%Y-%m-%d\") for i in ds[\"time\"].values]\n",
    "    print(len(set(list_array)))\n",
    "    missing_days = [d for d in days if d not in list_array]\n",
    "    missing_days"
   ]
  }
 ],
 "metadata": {
  "kernelspec": {
   "display_name": "torch_env",
   "language": "python",
   "name": "python3"
  },
  "language_info": {
   "codemirror_mode": {
    "name": "ipython",
    "version": 3
   },
   "file_extension": ".py",
   "mimetype": "text/x-python",
   "name": "python",
   "nbconvert_exporter": "python",
   "pygments_lexer": "ipython3",
   "version": "3.9.16"
  },
  "orig_nbformat": 4
 },
 "nbformat": 4,
 "nbformat_minor": 2
}
