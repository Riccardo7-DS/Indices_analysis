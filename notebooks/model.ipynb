{
 "cells": [
  {
   "attachments": {},
   "cell_type": "markdown",
   "metadata": {},
   "source": [
    "Smoothed NDVI"
   ]
  },
  {
   "cell_type": "code",
   "execution_count": null,
   "metadata": {},
   "outputs": [],
   "source": [
    "import xarray as xr\n",
    "import numpy as np\n",
    "import torch\n",
    "from torchvision import transforms\n",
    "import os\n",
    "from p_drought_indices.functions.function_clns import load_config, prepare, CNN_preprocessing\n",
    "import numpy as np\n",
    "import torch\n",
    "from torch.utils.data import Dataset\n",
    "from p_drought_indices.analysis.DeepLearning.dataset import CustomDataset\n",
    "from torch.utils.data import DataLoader\n",
    "import matplotlib.pyplot as plt\n",
    "from p_drought_indices.functions.ndvi_functions import get_irradiances, compute_ndvi_corr\n",
    "\n",
    "CONFIG_PATH= \"../config.yaml\"\n",
    "\n",
    "config_file = load_config(CONFIG_PATH=CONFIG_PATH)\n",
    "\n",
    "ndvi_dir = config_file['NDVI']['ndvi_prep']\n",
    "    \n",
    "new_dir = os.path.join(ndvi_dir,\"new_process\")\n",
    "list_files_2 = [os.path.join(new_dir, f) for f in os.listdir(new_dir) if f.endswith(\".nc\")]\n",
    "\n",
    "ds = xr.open_dataset(list_files_2[1000])\n",
    "\n",
    "msg_type = ds.attrs['EPCT_product_name'][:4]\n",
    "\n",
    "girradiance_vis6, irradiance_vis8 = get_irradiances(msg_type)"
   ]
  },
  {
   "cell_type": "code",
   "execution_count": null,
   "metadata": {},
   "outputs": [],
   "source": [
    "import xarray as xr\n",
    "import numpy as np\n",
    "import torch\n",
    "from torchvision import transforms\n",
    "import os\n",
    "from p_drought_indices.functions.function_clns import load_config, prepare, CNN_preprocessing\n",
    "import numpy as np\n",
    "import torch\n",
    "from torch.utils.data import Dataset\n",
    "from p_drought_indices.analysis.DeepLearning.dataset import CustomDataset\n",
    "from torch.utils.data import DataLoader\n",
    "import matplotlib.pyplot as plt\n",
    "\n",
    "CONFIG_PATH= \"../config.yaml\"\n",
    "\n",
    "config_file = load_config(CONFIG_PATH=CONFIG_PATH)\n",
    "\n",
    "# Open the NetCDF file with xarray\n",
    "ds = xr.open_dataset(os.path.join(config_file['NDVI']['ndvi_path'], 'ndvi_no_out.nc'))\n",
    "ds_ndvi = xr.open_dataset(os.path.join(config_file['NDVI']['ndvi_prep'], 'final_ndvi.nc'))\n",
    "ds_smoot = xr.open_dataset(os.path.join(config_file['NDVI']['ndvi_path'], 'smoothed_ndvi_1.nc'))\n",
    "vci = xr.open_dataset(os.path.join(config_file['NDVI']['ndvi_path'], 'vci_1D.nc'))"
   ]
  },
  {
   "cell_type": "code",
   "execution_count": null,
   "metadata": {},
   "outputs": [],
   "source": [
    "import pandas as pd \n",
    "from datetime import timedelta\n",
    "\n",
    "from p_drought_indices.analysis.visualizations.viz_series import plot_ndvi_days\n",
    "\n",
    "plot_ndvi_days(ds_smoot,\n",
    "               start_day=\"2010-01-01\",\n",
    "                num_timesteps=15)"
   ]
  },
  {
   "cell_type": "code",
   "execution_count": null,
   "metadata": {},
   "outputs": [],
   "source": [
    "import xarray as xr\n",
    "import numpy as np\n",
    "import torch\n",
    "from torchvision import transforms\n",
    "import os\n",
    "from p_drought_indices.functions.function_clns import load_config, prepare, CNN_preprocessing, get_lat_lon_window\n",
    "import numpy as np\n",
    "import torch\n",
    "from torch.utils.data import Dataset\n",
    "from p_drought_indices.analysis.DeepLearning.dataset import CustomDataset\n",
    "from torch.utils.data import DataLoader\n",
    "import pickle\n",
    "\n",
    "CONFIG_PATH= \"../config.yaml\"\n",
    "\n",
    "time_end = \"2019-12-31\"\n",
    "time_start = \"2005-01-01\"\n",
    "\n",
    "\n",
    "def spi_ndvi_convlstm():\n",
    "    config_file = load_config(CONFIG_PATH=CONFIG_PATH)\n",
    "\n",
    "    # Open the NetCDF file with xarray\n",
    "    dataset = prepare(xr.open_dataset(os.path.join(config_file['NDVI']['ndvi_path'], 'smoothed_ndvi_1.nc'))).sel(time=slice(time_start,time_end))\n",
    "\n",
    "    prod = \"ERA5\"\n",
    "    late = 90\n",
    "\n",
    "    path = config_file['SPI']['ERA5']['path']\n",
    "    file = \"era5_land_merged.nc\" #f\"ERA5_spi_gamma_{late}.nc\"\n",
    "    precp_ds = xr.open_dataset(os.path.join(path, file))\n",
    "    var_target = \"spi_gamma_{}\".format(late)\n",
    "    print(f\"The {prod} raster has spatial dimensions:\", precp_ds.rio.resolution())\n",
    "\n",
    "    #### training parameters\n",
    "    train_split = 0.8\n",
    "    batch_size=4\n",
    "    dim=64\n",
    "    preprocess_type=\"None\"\n",
    "\n",
    "    ### Load dataset\n",
    "    file_path = os.path.join(config_file[\"DEFAULT\"][\"data\"],'preprocessed_data.pkl')\n",
    "    if os.path.exists(file_path):\n",
    "        print(\"The file exists. Proceeding with the analysis\")\n",
    "        with open(file_path, 'rb') as file:\n",
    "            train_data, test_data, train_label, test_label = pickle.load(file)\n",
    "    else:\n",
    "        print(\"The file does not exist. Proceeding with preprocessing\")\n",
    "        idx_lat, lat_max, idx_lon, lon_min = get_lat_lon_window(precp_ds, dim)\n",
    "        sub_precp = prepare(precp_ds).sel(time=slice(time_start,time_end))\\\n",
    "            .sel(lat=slice(lat_max, idx_lat), lon=slice(lon_min, idx_lon))\n",
    "        ds = dataset[\"ndvi\"].rio.reproject_match(sub_precp[var_target]).rename({'x':'lon','y':'lat'})\n",
    "\n",
    "        \n",
    "\n",
    "        train_data, test_data, train_label, test_label = CNN_preprocessing(ds, sub_precp, var_origin=\"ndvi\", var_target=var_target, preprocess_type=preprocess_type,  split=train_split)\n",
    "        # Save the image data using pickle\n",
    "        with open(file_path, 'wb') as file:\n",
    "            pickle.dump((train_data, test_data, train_label, test_label), file)\n",
    "        print(\"Data written to pickle file\")\n",
    "\n",
    "    # create a CustomDataset object using the reshaped input data\n",
    "    train_dataset = CustomDataset(train_data, train_label)\n",
    "    test_dataset = CustomDataset(test_data, test_label)\n",
    "    \n",
    "    # create a DataLoader object that uses the dataset\n",
    "    train_dataloader = DataLoader(train_dataset, batch_size=batch_size, shuffle=True)\n",
    "    test_dataloader = DataLoader(test_dataset, batch_size=batch_size, shuffle=True)\n",
    "    \n",
    "    \n",
    "    ### check shape of data\n",
    "    \n",
    "    for batch_idx, (inputs, targets) in enumerate(train_dataloader):\n",
    "        inputs = inputs.float()\n",
    "        targets = targets.float()\n",
    "        print(inputs.shape, targets.shape, inputs.max(), inputs.min())\n",
    "    \n",
    "    \n",
    "    for batch_idx, (inputs, targets) in enumerate(test_dataloader):\n",
    "        inputs = inputs.float()\n",
    "        targets = targets.float()\n",
    "        print(inputs.shape, targets.shape, inputs.max(), inputs.min())\n",
    "\n",
    "\n",
    "    #### Start training\n",
    "\n",
    "    from p_drought_indices.configs.config_3x3_16_3x3_32_3x3_64 import config\n",
    "    from torch.nn import MSELoss\n",
    "    import matplotlib.pyplot as plt\n",
    "    from p_drought_indices.analysis.DeepLearning.ConvLSTM import ConvLSTM, train_loop, valid_loop, build_logging\n",
    "    import numpy as np\n",
    "    \n",
    "    name = '3x3_16_3x3_32_3x3_64'\n",
    "    \n",
    "    logger = build_logging(config)\n",
    "    model = ConvLSTM(config).to(config.device)\n",
    "    #criterion = CrossEntropyLoss().to(config.device)\n",
    "    #criterion = torch.nn.MSELoss().to(config.device)\n",
    "    criterion = MSELoss().to(config.device)\n",
    "    optimizer = torch.optim.Adam(model.parameters(), lr=1e-3)\n",
    "    train_records, valid_records, test_records = [], [], []\n",
    "    for epoch in range(config.epochs):\n",
    "        epoch_records = train_loop(config, logger, epoch, model, train_dataloader, criterion, optimizer)\n",
    "        train_records.append(np.mean(epoch_records['loss']))\n",
    "        epoch_records = valid_loop(config, logger, epoch, model, test_dataloader, criterion)\n",
    "        valid_records.append(np.mean(epoch_records['loss']))\n",
    "        plt.plot(range(epoch + 1), train_records, label='train')\n",
    "        plt.plot(range(epoch + 1), valid_records, label='valid')\n",
    "        plt.legend()\n",
    "        plt.savefig(os.path.join(config.output_dir, '{m}_{n}.png'.format(n=name, m=preprocess_type)))\n",
    "        plt.close()\n",
    "    "
   ]
  },
  {
   "cell_type": "code",
   "execution_count": null,
   "metadata": {},
   "outputs": [],
   "source": [
    "spi_ndvi_convlstm()"
   ]
  },
  {
   "cell_type": "code",
   "execution_count": 2,
   "metadata": {},
   "outputs": [],
   "source": [
    "import xarray as xr\n",
    "import os\n",
    "import numpy as np\n",
    "from p_drought_indices.functions.function_clns import load_config, subsetting_pipeline\n",
    "from datetime import datetime\n",
    "import pandas as pd\n",
    "\n",
    "CONFIG_PATH= \"../config.yaml\"\n",
    "config_file = load_config(CONFIG_PATH)"
   ]
  },
  {
   "cell_type": "code",
   "execution_count": 22,
   "metadata": {},
   "outputs": [
    {
     "name": "stderr",
     "output_type": "stream",
     "text": [
      "  0%|          | 0/12 [00:00<?, ?it/s]"
     ]
    },
    {
     "name": "stdout",
     "output_type": "stream",
     "text": [
      "Collecting day 1984-01-05...\n"
     ]
    },
    {
     "name": "stderr",
     "output_type": "stream",
     "text": [
      "  8%|▊         | 1/12 [00:12<02:15, 12.28s/it]"
     ]
    },
    {
     "name": "stdout",
     "output_type": "stream",
     "text": [
      "Collecting day 1984-03-10...\n"
     ]
    },
    {
     "name": "stderr",
     "output_type": "stream",
     "text": [
      " 17%|█▋        | 2/12 [00:25<02:10, 13.03s/it]"
     ]
    },
    {
     "name": "stdout",
     "output_type": "stream",
     "text": [
      "Collecting day 1984-06-07...\n"
     ]
    },
    {
     "name": "stderr",
     "output_type": "stream",
     "text": [
      " 25%|██▌       | 3/12 [00:38<01:55, 12.83s/it]"
     ]
    },
    {
     "name": "stdout",
     "output_type": "stream",
     "text": [
      "Collecting day 1984-09-02...\n"
     ]
    },
    {
     "name": "stderr",
     "output_type": "stream",
     "text": [
      " 33%|███▎      | 4/12 [00:50<01:39, 12.43s/it]"
     ]
    },
    {
     "name": "stdout",
     "output_type": "stream",
     "text": [
      "Collecting day 1984-11-17...\n"
     ]
    },
    {
     "name": "stderr",
     "output_type": "stream",
     "text": [
      " 42%|████▏     | 5/12 [01:02<01:25, 12.19s/it]"
     ]
    },
    {
     "name": "stdout",
     "output_type": "stream",
     "text": [
      "Collecting day 2005-01-02...\n"
     ]
    },
    {
     "name": "stderr",
     "output_type": "stream",
     "text": [
      " 50%|█████     | 6/12 [01:14<01:13, 12.20s/it]"
     ]
    },
    {
     "name": "stdout",
     "output_type": "stream",
     "text": [
      "Collecting day 2005-01-03...\n"
     ]
    },
    {
     "name": "stderr",
     "output_type": "stream",
     "text": [
      " 58%|█████▊    | 7/12 [01:26<01:01, 12.25s/it]"
     ]
    },
    {
     "name": "stdout",
     "output_type": "stream",
     "text": [
      "Collecting day 2005-02-20...\n"
     ]
    },
    {
     "name": "stderr",
     "output_type": "stream",
     "text": [
      " 67%|██████▋   | 8/12 [01:37<00:47, 11.90s/it]"
     ]
    },
    {
     "name": "stdout",
     "output_type": "stream",
     "text": [
      "Collecting day 2005-02-21...\n"
     ]
    },
    {
     "name": "stderr",
     "output_type": "stream",
     "text": [
      " 75%|███████▌  | 9/12 [01:49<00:35, 11.82s/it]"
     ]
    },
    {
     "name": "stdout",
     "output_type": "stream",
     "text": [
      "Collecting day 2005-05-18...\n"
     ]
    },
    {
     "name": "stderr",
     "output_type": "stream",
     "text": [
      " 83%|████████▎ | 10/12 [01:59<00:22, 11.40s/it]"
     ]
    },
    {
     "name": "stdout",
     "output_type": "stream",
     "text": [
      "Collecting day 2005-06-23...\n"
     ]
    },
    {
     "name": "stderr",
     "output_type": "stream",
     "text": [
      " 92%|█████████▏| 11/12 [02:11<00:11, 11.49s/it]"
     ]
    },
    {
     "name": "stdout",
     "output_type": "stream",
     "text": [
      "Collecting day 2005-07-01...\n"
     ]
    },
    {
     "name": "stderr",
     "output_type": "stream",
     "text": [
      "100%|██████████| 12/12 [02:23<00:00, 11.94s/it]\n"
     ]
    }
   ],
   "source": [
    "import pandas as pd\n",
    "from datetime import timedelta, datetime\n",
    "from tqdm.auto import tqdm\n",
    "from p_drought_indices.precipitation.data_collection.era5_daily_data import ee_collection\n",
    "import xarray as xr\n",
    "import os\n",
    "from p_drought_indices.functions.function_clns import load_config, subsetting_pipeline\n",
    "\n",
    "CONFIG_PATH= \"../config.yaml\"\n",
    "config = load_config(CONFIG_PATH)\n",
    "\n",
    "for day in tqdm(missing_days):\n",
    "    print(f\"Collecting day {day}...\")\n",
    "    new_day = pd.to_datetime(day) + timedelta(days=1)\n",
    "    end_day = new_day.strftime(\"%Y-%m-%d\")\n",
    "    ee_collection(day, end_day)"
   ]
  },
  {
   "cell_type": "code",
   "execution_count": 2,
   "metadata": {},
   "outputs": [],
   "source": [
    "from p_drought_indices.precipitation.data_collection.era5_daily_data import convert_tif_netcdf\n",
    "\n",
    "base_path = config_file[\"SPI\"][\"ERA5\"][\"path\"]\n",
    "dest_path = os.path.join(base_path,\"era5_netcdf\")\n",
    "path = os.path.join(base_path,\"daily\")\n",
    "\n",
    "#convert_tif_netcdf(CONFIG_PATH, base_path, path, dest_path, use_gdal=True, compress=True)"
   ]
  },
  {
   "cell_type": "code",
   "execution_count": 3,
   "metadata": {},
   "outputs": [
    {
     "name": "stdout",
     "output_type": "stream",
     "text": [
      "Days with errors: 1072\n",
      "Collected days from ee: 1072\n"
     ]
    }
   ],
   "source": [
    "import pandas as pd\n",
    "path = os.path.join(base_path, \"era5_land_merged.nc\")\n",
    "precp_ds = subsetting_pipeline(CONFIG_PATH, xr.open_dataset(path))\n",
    "### generate mask and count days  smaller than 0\n",
    "mask = precp_ds['tp'] < 0\n",
    "arr = mask.sum(dim=[\"lat\",\"lon\"])\n",
    "print(\"Days with errors:\", len(np.where(arr>0)[0]))\n",
    "list_arr = np.where(arr>0)[0]\n",
    "days = [np.datetime_as_string(precp_ds.isel(time=i)[\"time\"].values, unit=\"D\") for i in list_arr]\n",
    "ds = subsetting_pipeline(CONFIG_PATH, xr.open_dataset(os.path.join(base_path, \"era5_precp_batch.nc\"), chunks={\"time\":\"200MB\" }))\n",
    "print(\"Collected days from ee:\", len( np.unique(ds[\"time\"].values)))"
   ]
  },
  {
   "cell_type": "code",
   "execution_count": 8,
   "metadata": {},
   "outputs": [],
   "source": [
    "from p_drought_indices.functions.function_clns import prepare\n",
    "\n",
    "ds = subsetting_pipeline(CONFIG_PATH, xr.open_dataset(os.path.join(base_path, \n",
    "    \"era5_precp_batch.nc\"), chunks={\"time\":\"200MB\" }))\n",
    "res_ds = prepare(ds)[\"tp\"].rio.reproject_match(prepare(precp_ds)[\"tp\"]) \\\n",
    "    .rename({\"y\":\"lat\", \"x\":\"lon\"})\n",
    "days_dt = [np.datetime64(f) for f in days]\n",
    "ds_1 = precp_ds.drop_sel(time = days_dt) \n",
    "ds_ = xr.concat([ds_1, res_ds.to_dataset()], dim=\"time\")\n",
    "ds_ = ds_.sortby(\"time\")"
   ]
  },
  {
   "cell_type": "code",
   "execution_count": 40,
   "metadata": {},
   "outputs": [],
   "source": [
    "ds_.to_netcdf(os.path.join(base_path,\"era5_land_merged_corr.nc\"))"
   ]
  },
  {
   "cell_type": "code",
   "execution_count": 44,
   "metadata": {},
   "outputs": [
    {
     "name": "stdout",
     "output_type": "stream",
     "text": [
      "<xarray.DataArray 'tp' (lat: 195, lon: 183)>\n",
      "array([[ True,  True,  True, ...,  True,  True,  True],\n",
      "       [ True,  True,  True, ...,  True,  True,  True],\n",
      "       [ True,  True,  True, ...,  True,  True,  True],\n",
      "       ...,\n",
      "       [ True,  True,  True, ...,  True,  True,  True],\n",
      "       [ True,  True,  True, ...,  True,  True,  True],\n",
      "       [ True,  True,  True, ...,  True,  True,  True]])\n",
      "Coordinates:\n",
      "  * lon          (lon) float32 33.1 33.2 33.3 33.4 33.5 ... 51.0 51.1 51.2 51.3\n",
      "  * lat          (lat) float32 14.8 14.7 14.6 14.5 14.4 ... -4.3 -4.4 -4.5 -4.6\n",
      "    spatial_ref  int32 0\n"
     ]
    }
   ],
   "source": [
    "# Compute a boolean mask for missing values\n",
    "missing_mask = xr.where(np.isnan(ds_[\"tp\"]), True, False)\n",
    "\n",
    "# Collapse the time dimension to check if the mask values are constant over time\n",
    "are_missing_values_constant = missing_mask.all(dim='time')\n",
    "\n",
    "# Print the result\n",
    "print(are_missing_values_constant)"
   ]
  },
  {
   "cell_type": "code",
   "execution_count": 12,
   "metadata": {},
   "outputs": [
    {
     "name": "stdout",
     "output_type": "stream",
     "text": [
      "The CHIRPS raster has spatial dimensions: (0.25, -0.25)\n",
      "NDVI dataset resolution: (0.043782177927351104, 0.04378217792735114)\n",
      "Precipitation dataset resolution (0.25, -0.25)\n"
     ]
    }
   ],
   "source": [
    "from p_drought_indices.analysis.DeepLearning.pipeline_gwnet import data_preparation\n",
    "from p_drought_indices.functions.function_clns import load_config\n",
    "\n",
    "CONFIG_PATH = \"../config.yaml\"\n",
    "config = load_config(CONFIG_PATH)\n",
    "sub_precp, ds =  data_preparation(CONFIG_PATH, precp_dataset=\"CHIRPS\")"
   ]
  },
  {
   "cell_type": "code",
   "execution_count": null,
   "metadata": {},
   "outputs": [],
   "source": [
    "from p_drought_indices.functions.function_clns import load_config\n",
    "from p_drought_indices.analysis.visualizations.viz_vci_spi import plot_veg_event\n",
    "import os\n",
    "import xarray as xr\n",
    "CONFIG_PATH = \"../config.yaml\"\n",
    "config = load_config(CONFIG_PATH)\n",
    "\n",
    "path = config[\"PRECIP\"][\"ERA5_land\"][\"path\"]\n",
    "output_dir = os.path.join(path,  \"graph_net/predicted_data\")"
   ]
  },
  {
   "cell_type": "code",
   "execution_count": null,
   "metadata": {},
   "outputs": [
    {
     "data": {
      "text/plain": [
       "<matplotlib.collections.QuadMesh at 0x7f9f88139f40>"
      ]
     },
     "execution_count": 83,
     "metadata": {},
     "output_type": "execute_result"
    },
    {
     "data": {
      "image/png": "[encoded data removed]",
      "text/plain": [
       "<Figure size 640x480 with 2 Axes>"
      ]
     },
     "metadata": {},
     "output_type": "display_data"
    }
   ],
   "source": [
    "ds = xr.open_dataset(os.path.join(output_dir, \"predicted_ndvi_1.nc\"))\n",
    "ds.isel(time=0)[\"ndvi\"].plot()"
   ]
  },
  {
   "cell_type": "code",
   "execution_count": 84,
   "metadata": {},
   "outputs": [
    {
     "name": "stdout",
     "output_type": "stream",
     "text": [
      "days are 366\n",
      "Calculating the full year for boxplot\n",
      "The days are 366\n",
      "days are 365\n",
      "For year 2017 obtaining only months 1 to 5 for boxplot\n"
     ]
    },
    {
     "data": {
      "image/png": "[encoded data removed]",
      "text/plain": [
       "<Figure size 1000x600 with 1 Axes>"
      ]
     },
     "metadata": {},
     "output_type": "display_data"
    }
   ],
   "source": [
    "months = [i for i in np.arange(1,6)]\n",
    "plot_veg_event(ds,year=2017, months=months)"
   ]
  },
  {
   "cell_type": "code",
   "execution_count": 1,
   "metadata": {},
   "outputs": [
    {
     "name": "stdout",
     "output_type": "stream",
     "text": [
      "c:\\Users\\Riccardo\\Desktop\\Other\\package\\Indices_analysis\\notebooks\\.\n"
     ]
    }
   ],
   "source": [
    "from p_drought_indices.analysis.DeepLearning.GWNET.pipeline_gwnet import data_preparation, check_xarray_dataset\n",
    "import pickle\n",
    "import os\n",
    "import matplotlib.pyplot as plt\n",
    "from p_drought_indices.functions.function_clns import load_config\n",
    "import numpy as np\n",
    "from p_drought_indices.configs.config_3x3_16_3x3_32_3x3_64 import config\n",
    "import torch\n",
    "import pandas as pd\n",
    "\n",
    "product = \"ERA5_land\"\n",
    "CONFIG_PATH = \"../config.yaml\"\n",
    "config_file = load_config(CONFIG_PATH)"
   ]
  },
  {
   "cell_type": "code",
   "execution_count": 2,
   "metadata": {},
   "outputs": [],
   "source": [
    "class Args:\n",
    "    def __init__(self):\n",
    "        self.device = 'cuda'\n",
    "        self.adjtype = 'doubletransition'\n",
    "        self.gcn_bool = False\n",
    "        self.aptonly = False\n",
    "        self.addaptadj = False\n",
    "        self.randomadj = False\n",
    "        self.nhid = 32\n",
    "        self.in_dim = 1\n",
    "        self.batch_size = config_file[\"GWNET\"][\"batch_size\"]\n",
    "        self.learning_rate = 0.001\n",
    "        self.dropout = 0.3\n",
    "        self.weight_decay = 0.0001\n",
    "        self.print_every = 50\n",
    "        self.expid = 1\n",
    "        self.latency = 90\n",
    "        self.spi = False\n",
    "        self.precp_product = product\n",
    "        self.forecast = 12\n",
    "        self.seq_length = 12\n",
    "        self.country = [\"Kenya\", \"Ethiopia\", \"Somalia\"]\n",
    "        self.region = None\n",
    "        self.dim = config_file[\"GWNET\"][\"pixels\"]\n",
    "        self.convlstm = False\n",
    "\n",
    "# Create an instance of the Args class\n",
    "args = Args()\n",
    "\n",
    "from p_drought_indices.analysis.DeepLearning.GWNET.pipeline_gwnet import load_adj, MetricsRecorder, trainer,get_dataloader, data_preparation\n",
    "from p_drought_indices.analysis.DeepLearning.GWNET.predictions_gwnet import get_predicted_dataset\n",
    "path = config_file[\"PRECIP\"][\"ERA5_land\"][\"path\"]\n",
    "args.output_dir = os.path.join(path,  \"graph_net\")\n",
    "checkp_path = os.path.join(args.output_dir,  f\"checkpoints/forecast_{args.forecast}\")\n",
    "model_path = [os.path.join(checkp_path, f) for f in os.listdir(checkp_path) if \"best\" in f][0]\n",
    "\n",
    "sub_precp, ds =  data_preparation(args, CONFIG_PATH, precp_dataset=args.precp_product)\n",
    "print(\"Checking precipitation dataset...\")\n",
    "check_xarray_dataset(args, sub_precp, save=True)\n",
    "print(\"Checking vegetation dataset...\")\n",
    "check_xarray_dataset(args, ds, save=True)\n",
    "\n",
    "dataloader, num_nodes, x_df = get_dataloader(args, CONFIG_PATH, sub_precp, ds, check_matrix=True)"
   ]
  },
  {
   "cell_type": "code",
   "execution_count": 15,
   "metadata": {},
   "outputs": [
    {
     "data": {
      "text/plain": [
       "dict_keys(['x_train', 'y_train', 'x_val', 'y_val', 'x_test', 'y_test', 'train_loader', 'val_loader', 'test_loader', 'scaler'])"
      ]
     },
     "execution_count": 15,
     "metadata": {},
     "output_type": "execute_result"
    }
   ],
   "source": [
    "dataloader.keys()"
   ]
  },
  {
   "cell_type": "code",
   "execution_count": 18,
   "metadata": {},
   "outputs": [],
   "source": [
    "def test(model, loss, test_loader, args):\n",
    "    \"\"\"\n",
    "    Test logic for the GWN model. Makes predictions on the input supplied, calculates loss(MSE) without updating weights.\n",
    "    Parameters:\n",
    "        test_loader - Instance of DataLoader which performs preprocessing operations and an iterator to iterate through the data\n",
    "        args - Parser of parameter arguments\n",
    "    Returns:\n",
    "        test_loss/trainLoader.num_batch - returns the validation loss(MSE) across the batches fed into it by the DataLoader\n",
    "        predictions - returns a list of the predictions made by the GWN model on the test set\n",
    "        targets - returns a list of the test inputs fed into the GWN model\n",
    "    \"\"\"\n",
    "    model.eval()\n",
    "    predictions = []\n",
    "    targets = []\n",
    "    with torch.no_grad():\n",
    "        test_loss = 0\n",
    "        for iter, (x, y) in enumerate(test_loader.get_iterator()):\n",
    "            x = torch.Tensor(x).to(args.device)\n",
    "            x = x.transpose(1, 3)\n",
    "            y = torch.Tensor(y).to(args.device)\n",
    "            y = y.transpose(1, 3)\n",
    "            input = torch.nn.functional.pad(x, (1, 0, 0, 0))\n",
    "            output = model(input)\n",
    "            output = output.transpose(1, 3)\n",
    "            real = torch.unsqueeze(y[:, 0, :, :], dim=1)\n",
    "            loss = loss(output, real)\n",
    "            test_loss += loss\n",
    "            predictions.append(output.cpu().detach().numpy())\n",
    "            targets.append(real.cpu().detach().numpy())\n",
    "        return (test_loss / test_loader.num_batch).item(), predictions, targets"
   ]
  },
  {
   "cell_type": "code",
   "execution_count": 3,
   "metadata": {},
   "outputs": [
    {
     "name": "stderr",
     "output_type": "stream",
     "text": [
      "2023-09-22 at 19:06:50 | \u001b[1mINFO\u001b[0m ℹ️ | \u001b[1mStarting NDVI prediction with product ERA5_land with 12 days of features...\u001b[0m\n",
      "2023-09-22 at 19:07:24 | \u001b[1mINFO\u001b[0m ℹ️ | \u001b[1mThe ERA5_land raster has spatial dimensions: (0.10000000419197502, -0.1000000004915847)\u001b[0m\n",
      "2023-09-22 at 19:09:46 | \u001b[1mINFO\u001b[0m ℹ️ | \u001b[1mMSG NDVI dataset resolution: (0.043782177927351104, 0.04378217792735114)\u001b[0m\n",
      "2023-09-22 at 19:09:47 | \u001b[1mINFO\u001b[0m ℹ️ | \u001b[1mERA5_land precipitation dataset resolution: (0.10000000419197502, -0.1000000004915847)\u001b[0m\n"
     ]
    },
    {
     "name": "stdout",
     "output_type": "stream",
     "text": [
      "Selecting data for GCNN WaveNet\n",
      "Checking precipitation dataset...\n",
      "lat-axis values: [14.8 14.7 14.6 14.5 14.4 14.3 14.2 14.1 14.  13.9 13.8 13.7 13.6 13.5\n",
      " 13.4 13.3 13.2 13.1 13.  12.9 12.8 12.7 12.6 12.5 12.4 12.3 12.2 12.1\n",
      " 12.  11.9 11.8 11.7 11.6 11.5 11.4 11.3 11.2 11.1 11.  10.9 10.8 10.7\n",
      " 10.6 10.5 10.4 10.3 10.2 10.1 10.   9.9  9.8  9.7  9.6  9.5  9.4  9.3\n",
      "  9.2  9.1  9.   8.9  8.8  8.7  8.6  8.5]\n",
      "lon-axis values: [33.1 33.2 33.3 33.4 33.5 33.6 33.7 33.8 33.9 34.  34.1 34.2 34.3 34.4\n",
      " 34.5 34.6 34.7 34.8 34.9 35.  35.1 35.2 35.3 35.4 35.5 35.6 35.7 35.8\n",
      " 35.9 36.  36.1 36.2 36.3 36.4 36.5 36.6 36.7 36.8 36.9 37.  37.1 37.2\n",
      " 37.3 37.4 37.5 37.6 37.7 37.8 37.9 38.  38.1 38.2 38.3 38.4 38.5 38.6\n",
      " 38.7 38.8 38.9 39.  39.1 39.2 39.3 39.4]\n",
      "Dimensions: ('time', 'lat', 'lon')\n",
      "Size: 4485120\n",
      "Number of Dimensions: 3\n",
      "Shape: (1095, 64, 64)\n",
      "Coordinates: Coordinates:\n",
      "  * lon          (lon) float32 33.1 33.2 33.3 33.4 33.5 ... 39.1 39.2 39.3 39.4\n",
      "  * lat          (lat) float32 14.8 14.7 14.6 14.5 14.4 ... 8.9 8.8 8.7 8.6 8.5\n",
      "  * time         (time) datetime64[ns] 2017-01-01 2017-01-02 ... 2019-12-31\n",
      "    spatial_ref  int32 0\n",
      "Is null: <xarray.DataArray 'tp' ()>\n",
      "array(1713675)\n",
      "Coordinates:\n",
      "    spatial_ref  int32 0\n",
      "Not null: <xarray.DataArray 'tp' ()>\n",
      "array(2771445)\n",
      "Coordinates:\n",
      "    spatial_ref  int32 0\n",
      "Plotting the dataset...\n",
      "Checking vegetation dataset...\n",
      "lat-axis values: [14.8 14.7 14.6 14.5 14.4 14.3 14.2 14.1 14.  13.9 13.8 13.7 13.6 13.5\n",
      " 13.4 13.3 13.2 13.1 13.  12.9 12.8 12.7 12.6 12.5 12.4 12.3 12.2 12.1\n",
      " 12.  11.9 11.8 11.7 11.6 11.5 11.4 11.3 11.2 11.1 11.  10.9 10.8 10.7\n",
      " 10.6 10.5 10.4 10.3 10.2 10.1 10.   9.9  9.8  9.7  9.6  9.5  9.4  9.3\n",
      "  9.2  9.1  9.   8.9  8.8  8.7  8.6  8.5]\n",
      "lon-axis values: [33.1 33.2 33.3 33.4 33.5 33.6 33.7 33.8 33.9 34.  34.1 34.2 34.3 34.4\n",
      " 34.5 34.6 34.7 34.8 34.9 35.  35.1 35.2 35.3 35.4 35.5 35.6 35.7 35.8\n",
      " 35.9 36.  36.1 36.2 36.3 36.4 36.5 36.6 36.7 36.8 36.9 37.  37.1 37.2\n",
      " 37.3 37.4 37.5 37.6 37.7 37.8 37.9 38.  38.1 38.2 38.3 38.4 38.5 38.6\n",
      " 38.7 38.8 38.9 39.  39.1 39.2 39.3 39.4]\n",
      "Dimensions: ('time', 'lat', 'lon')\n",
      "Size: 4485120\n",
      "Number of Dimensions: 3\n",
      "Shape: (1095, 64, 64)\n",
      "Coordinates: Coordinates:\n",
      "  * lon          (lon) float32 33.1 33.2 33.3 33.4 33.5 ... 39.1 39.2 39.3 39.4\n",
      "  * lat          (lat) float32 14.8 14.7 14.6 14.5 14.4 ... 8.9 8.8 8.7 8.6 8.5\n",
      "  * time         (time) datetime64[ns] 2017-01-01 2017-01-02 ... 2019-12-31\n",
      "    spatial_ref  int32 0\n",
      "Is null: <xarray.DataArray 'ndvi' ()>\n",
      "array(1709295)\n",
      "Coordinates:\n",
      "    spatial_ref  int32 0\n",
      "Not null: <xarray.DataArray 'ndvi' ()>\n",
      "array(2775825)\n",
      "Coordinates:\n",
      "    spatial_ref  int32 0\n",
      "Plotting the dataset...\n"
     ]
    },
    {
     "name": "stderr",
     "output_type": "stream",
     "text": [
      "2023-09-22 at 19:10:29 | \u001b[1mINFO\u001b[0m ℹ️ | \u001b[1mThe features have dimensions: (1095, 2531, 1)\u001b[0m\n"
     ]
    },
    {
     "name": "stdout",
     "output_type": "stream",
     "text": [
      "    lat   lon      \n",
      "tp  14.8  37.900002    0\n",
      "    14.7  38.099998    0\n",
      "          38.000000    0\n",
      "          37.900002    0\n",
      "    14.6  39.099998    0\n",
      "                      ..\n",
      "    8.5   34.500000    0\n",
      "          34.400002    0\n",
      "          34.299999    0\n",
      "          34.200001    0\n",
      "          34.099998    0\n",
      "Length: 2531, dtype: int64\n",
      "0\n"
     ]
    },
    {
     "name": "stderr",
     "output_type": "stream",
     "text": [
      "2023-09-22 at 19:12:01 | \u001b[1mINFO\u001b[0m ℹ️ | \u001b[1mThe instance have dimensions: (1095, 2531, 1)\u001b[0m\n"
     ]
    },
    {
     "name": "stdout",
     "output_type": "stream",
     "text": [
      "      lat   lon      \n",
      "ndvi  14.8  37.900002    0\n",
      "      14.7  38.099998    0\n",
      "            38.000000    0\n",
      "            37.900002    0\n",
      "      14.6  39.099998    0\n",
      "                        ..\n",
      "      8.5   34.500000    0\n",
      "            34.400002    0\n",
      "            34.299999    0\n",
      "            34.200001    0\n",
      "            34.099998    0\n",
      "Length: 2531, dtype: int64\n",
      "0\n"
     ]
    },
    {
     "name": "stderr",
     "output_type": "stream",
     "text": [
      "2023-09-22 at 19:12:02 | \u001b[1mINFO\u001b[0m ℹ️ | \u001b[1mUsing previously created adjacency matrix\u001b[0m\n",
      "2023-09-22 at 19:12:02 | \u001b[1mINFO\u001b[0m ℹ️ | \u001b[1mx shape: (1072, 12, 2531, 1)\u001b[0m\n",
      "2023-09-22 at 19:12:02 | \u001b[1mINFO\u001b[0m ℹ️ | \u001b[1my shape: (1072, 12, 2531, 1)\u001b[0m\n",
      "2023-09-22 at 19:12:02 | \u001b[1mINFO\u001b[0m ℹ️ | \u001b[1mtrain x: (766, 12, 2531, 1), y: (766, 12, 2531, 1)\u001b[0m\n",
      "2023-09-22 at 19:12:37 | \u001b[1mINFO\u001b[0m ℹ️ | \u001b[1mval x: (110, 12, 2531, 1), y: (110, 12, 2531, 1)\u001b[0m\n",
      "2023-09-22 at 19:12:42 | \u001b[1mINFO\u001b[0m ℹ️ | \u001b[1mtest x: (219, 12, 2531, 1), y: (219, 12, 2531, 1)\u001b[0m\n"
     ]
    },
    {
     "name": "stdout",
     "output_type": "stream",
     "text": [
      "realy dims is: {} torch.Size([219, 2531, 12])\n"
     ]
    }
   ],
   "source": [
    "dates = x_df.index\n",
    "cols = x_df.columns\n",
    "sub_cols = [ (i[1], i[2]) for i in cols]\n",
    "epochs = config_file[\"GWNET\"][\"epochs\"]\n",
    "dim = args.dim\n",
    "\n",
    "device = torch.device(args.device)\n",
    "adj_path = os.path.join(os.path.join(args.output_dir,  \"adjacency_matrix\"), f\"{args.precp_product}_{args.dim}_adj_dist.pkl\")\n",
    "adj_mx = load_adj(adj_path,  args.adjtype)\n",
    "scaler = dataloader['scaler']\n",
    "supports = [torch.tensor(i).to(device) for i in adj_mx]\n",
    "metrics_recorder = MetricsRecorder()\n",
    "if args.spi==True:\n",
    "    checkp_path = os.path.join(args.output_dir,  f\"checkpoints/forecast_{args.precp_product}_SPI_{args.latency}\")\n",
    "else:\n",
    "    checkp_path = os.path.join(args.output_dir,  f\"checkpoints/forecast_{args.forecast}\")\n",
    "if args.randomadj:\n",
    "    adjinit = None\n",
    "else:\n",
    "    adjinit = supports[0]\n",
    "if args.aptonly:\n",
    "    supports = None\n",
    "engine = trainer(scaler, args.in_dim, args.seq_length, num_nodes, args.nhid, args.dropout,\n",
    "                     args.learning_rate, args.weight_decay, device, supports, args.gcn_bool, args.addaptadj,\n",
    "                     adjinit)\n",
    "model = engine.model.load_state_dict(torch.load(model_path))\n",
    "outputs = []\n",
    "realy = torch.Tensor(dataloader['y_test']).to(device)\n",
    "realy = realy.transpose(1,3)[:,0,:,:]\n",
    "print(\"realy dims is: {}\", realy.shape)"
   ]
  },
  {
   "cell_type": "code",
   "execution_count": null,
   "metadata": {},
   "outputs": [],
   "source": [
    "for iter, (x, y) in enumerate(dataloader['test_loader'].get_iterator()):\n",
    "    print(\"single x shape: {}\", x.shape)\n",
    "    testx = torch.Tensor(x).to(device)\n",
    "    testx = testx.transpose(1,3)\n",
    "    with torch.no_grad():\n",
    "        preds = engine.model(testx).transpose(1,3)\n",
    "        print(\"single testx shape: {}\", testx.shape)\n",
    "        print(\"single prediction shape: {}\", preds.shape)\n",
    "        print(\"squeezed pred dims is: {}\", preds.squeeze().shape)\n",
    "        outputs.append(preds[:,0,:,:].squeeze())\n",
    "        \n",
    "yhat = torch.cat(outputs,dim=0)\n",
    "yhat = yhat[:realy.size(0),...]"
   ]
  },
  {
   "cell_type": "code",
   "execution_count": 5,
   "metadata": {},
   "outputs": [
    {
     "name": "stdout",
     "output_type": "stream",
     "text": [
      "torch.Size([219, 2531])\n",
      "torch.Size([219, 2531])\n",
      "torch.Size([2531])\n",
      "torch.Size([219, 2531])\n",
      "torch.Size([219, 2531])\n",
      "torch.Size([2531])\n",
      "torch.Size([219, 2531])\n",
      "torch.Size([219, 2531])\n",
      "torch.Size([2531])\n",
      "torch.Size([219, 2531])\n",
      "torch.Size([219, 2531])\n",
      "torch.Size([2531])\n",
      "torch.Size([219, 2531])\n",
      "torch.Size([219, 2531])\n",
      "torch.Size([2531])\n",
      "torch.Size([219, 2531])\n",
      "torch.Size([219, 2531])\n",
      "torch.Size([2531])\n",
      "torch.Size([219, 2531])\n",
      "torch.Size([219, 2531])\n",
      "torch.Size([2531])\n",
      "torch.Size([219, 2531])\n",
      "torch.Size([219, 2531])\n",
      "torch.Size([2531])\n",
      "torch.Size([219, 2531])\n",
      "torch.Size([219, 2531])\n",
      "torch.Size([2531])\n",
      "torch.Size([219, 2531])\n",
      "torch.Size([219, 2531])\n",
      "torch.Size([2531])\n",
      "torch.Size([219, 2531])\n",
      "torch.Size([219, 2531])\n",
      "torch.Size([2531])\n",
      "torch.Size([219, 2531])\n",
      "torch.Size([219, 2531])\n",
      "torch.Size([2531])\n"
     ]
    }
   ],
   "source": [
    "for i in range(args.seq_length):\n",
    "    pred = scaler.inverse_transform(yhat[:,:,i])\n",
    "    real = realy[:,:,i]\n",
    "    print(pred.shape)\n",
    "    print(real.shape)\n",
    "    print(pred[0].shape)\n",
    "    base_path = os.path.join(args.output_dir, \"predicted_data\")\n",
    "    ds = get_predicted_dataset(pred, dates, sub_cols)\n",
    "    ds.to_netcdf(os.path.join(base_path, f\"predicted_ndvi_{i}.nc\"))"
   ]
  },
  {
   "cell_type": "code",
   "execution_count": 10,
   "metadata": {},
   "outputs": [
    {
     "data": {
      "text/plain": [
       "<matplotlib.collections.QuadMesh at 0x14339781e20>"
      ]
     },
     "execution_count": 10,
     "metadata": {},
     "output_type": "execute_result"
    },
    {
     "data": {
      "image/png": "[encoded data removed]",
      "text/plain": [
       "<Figure size 640x480 with 2 Axes>"
      ]
     },
     "metadata": {},
     "output_type": "display_data"
    }
   ],
   "source": [
    "ds.isel(time=1)[\"ndvi\"].plot()"
   ]
  }
 ],
 "metadata": {
  "kernelspec": {
   "display_name": "torch_env",
   "language": "python",
   "name": "python3"
  },
  "language_info": {
   "codemirror_mode": {
    "name": "ipython",
    "version": 3
   },
   "file_extension": ".py",
   "mimetype": "text/x-python",
   "name": "python",
   "nbconvert_exporter": "python",
   "pygments_lexer": "ipython3",
   "version": "3.9.16"
  },
  "orig_nbformat": 4
 },
 "nbformat": 4,
 "nbformat_minor": 2
}
