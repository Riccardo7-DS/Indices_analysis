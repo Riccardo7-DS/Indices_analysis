{
 "cells": [
  {
   "cell_type": "code",
   "execution_count": 1,
   "metadata": {},
   "outputs": [
    {
     "name": "stdout",
     "output_type": "stream",
     "text": [
      "The ERA5 raster has spatial dimensions: (0.10000000419197502, -0.1000000004915847)\n",
      "NDVI dataset resolution: (0.043782177927351104, 0.04378217792735114)\n",
      "Precipitation dataset resolution (0.10000000419197502, -0.1000000004915847)\n",
      "The features have dimensions: (730, 92, 1)\n",
      "The instance have dimensions: (730, 92, 1)\n",
      "x shape:  (707, 12, 92, 1) , y shape:  (707, 12, 92, 1)\n",
      "train x:  (511, 12, 92, 1) y: (511, 12, 92, 1)\n",
      "val x:  (73, 12, 92, 1) y: (73, 12, 92, 1)\n",
      "test x:  (146, 12, 92, 1) y: (146, 12, 92, 1)\n"
     ]
    }
   ],
   "source": [
    "CONFIG_PATH = \"../config.yaml\"\n",
    "from p_drought_indices.analysis.DeepLearning.pipeline_gwnet import data_preparation\n",
    "dataloader = data_preparation(CONFIG_PATH)"
   ]
  },
  {
   "cell_type": "code",
   "execution_count": 4,
   "metadata": {},
   "outputs": [
    {
     "data": {
      "text/plain": [
       "<p_drought_indices.analysis.DeepLearning.pipeline_gwnet.StandardScaler at 0x267d7b2a2b0>"
      ]
     },
     "execution_count": 4,
     "metadata": {},
     "output_type": "execute_result"
    }
   ],
   "source": [
    "dataloader[\"scaler\"]"
   ]
  },
  {
   "cell_type": "code",
   "execution_count": 6,
   "metadata": {},
   "outputs": [],
   "source": [
    "import os \n",
    "from p_drought_indices.functions.function_clns import load_config\n",
    "from p_drought_indices.analysis.DeepLearning.pipeline_gwnet import asym_adj\n",
    "import pickle\n",
    "\n",
    "CONFIG_PATH = \"../config.yaml\"\n",
    "config = load_config(CONFIG_PATH)\n",
    "adj_type = 'doubletransition'\n",
    "\n",
    "adj_path = os.path.join(config[\"DEFAULT\"][\"data\"], \"graph_net/adj_dist.pkl\")\n",
    "#sensor_ids, sensor_id_to_ind, adj_mx = load_adj(adj_path,  adj_type)"
   ]
  },
  {
   "cell_type": "code",
   "execution_count": 11,
   "metadata": {},
   "outputs": [],
   "source": []
  },
  {
   "cell_type": "code",
   "execution_count": 13,
   "metadata": {},
   "outputs": [],
   "source": [
    "adj_mx = load_adj(adj_path,  adj_type)"
   ]
  },
  {
   "cell_type": "code",
   "execution_count": 14,
   "metadata": {},
   "outputs": [
    {
     "data": {
      "text/plain": [
       "[matrix([[0.29796177, 0.2630017 , 0.18086573, ..., 0.        , 0.        ,\n",
       "          0.        ],\n",
       "         [0.17608954, 0.19949663, 0.1760903 , ..., 0.        , 0.        ,\n",
       "          0.        ],\n",
       "         [0.08674923, 0.12614492, 0.1429124 , ..., 0.        , 0.        ,\n",
       "          0.        ],\n",
       "         ...,\n",
       "         [0.        , 0.        , 0.        , ..., 0.09515225, 0.08429149,\n",
       "          0.05859623],\n",
       "         [0.        , 0.        , 0.        , ..., 0.10941748, 0.12351567,\n",
       "          0.10941647],\n",
       "         [0.        , 0.        , 0.        , ..., 0.11185217, 0.1608994 ,\n",
       "          0.1816326 ]], dtype=float32),\n",
       " matrix([[0.29796177, 0.2630017 , 0.18086573, ..., 0.        , 0.        ,\n",
       "          0.        ],\n",
       "         [0.17608954, 0.19949663, 0.1760903 , ..., 0.        , 0.        ,\n",
       "          0.        ],\n",
       "         [0.08674923, 0.12614492, 0.1429124 , ..., 0.        , 0.        ,\n",
       "          0.        ],\n",
       "         ...,\n",
       "         [0.        , 0.        , 0.        , ..., 0.09515225, 0.08429149,\n",
       "          0.05859623],\n",
       "         [0.        , 0.        , 0.        , ..., 0.10941748, 0.12351567,\n",
       "          0.10941647],\n",
       "         [0.        , 0.        , 0.        , ..., 0.11185217, 0.1608994 ,\n",
       "          0.1816326 ]], dtype=float32)]"
      ]
     },
     "execution_count": 14,
     "metadata": {},
     "output_type": "execute_result"
    }
   ],
   "source": [
    "adj_mx"
   ]
  },
  {
   "cell_type": "code",
   "execution_count": null,
   "metadata": {},
   "outputs": [],
   "source": [
    "\n",
    "import numpy as np\n",
    "import matplotlib.pyplot as plt\n",
    "\n",
    "\n",
    "\n",
    "import seaborn as sns\n",
    "\n",
    "adj_mx = generate_adj_dist(df)\n",
    "\n",
    "mask = np.zeros_like(adj_mx)\n",
    "mask[np.triu_indices_from(mask)] = True\n",
    "ax_labels = df[['lat', 'lon']].round(3).set_index([\"lat\",\"lon\"]).index.tolist()\n",
    "sns.heatmap(adj_mx, mask=mask, cmap=\"YlGnBu\", xticklabels=ax_labels, yticklabels=ax_labels)\n",
    "plt.xticks(ticks=plt.xticks()[0][::2])  # Adjust the step value (here, I used 2) to control the spacing\n",
    "plt.yticks(ticks=plt.yticks()[0][::2])"
   ]
  },
  {
   "cell_type": "code",
   "execution_count": null,
   "metadata": {},
   "outputs": [],
   "source": [
    "from p_drought_indices.analysis.DeepLearning.pipeline_gwnet import asym_adj, build_model\n",
    "\n",
    "adj = [asym_adj(adj_mx), asym_adj(np.transpose(adj_mx))]"
   ]
  },
  {
   "cell_type": "code",
   "execution_count": null,
   "metadata": {},
   "outputs": [],
   "source": []
  }
 ],
 "metadata": {
  "kernelspec": {
   "display_name": "gis_py39",
   "language": "python",
   "name": "python3"
  },
  "language_info": {
   "codemirror_mode": {
    "name": "ipython",
    "version": 3
   },
   "file_extension": ".py",
   "mimetype": "text/x-python",
   "name": "python",
   "nbconvert_exporter": "python",
   "pygments_lexer": "ipython3",
   "version": "3.9.16"
  },
  "orig_nbformat": 4
 },
 "nbformat": 4,
 "nbformat_minor": 2
}
