{
 "cells": [
  {
   "cell_type": "code",
   "execution_count": 1,
   "metadata": {},
   "outputs": [
    {
     "name": "stderr",
     "output_type": "stream",
     "text": [
      "c:\\Users\\Riccardo\\anaconda3\\envs\\gis2_py39\\lib\\site-packages\\torchvision\\io\\image.py:13: UserWarning: Failed to load image Python extension: [WinError 127] The specified procedure could not be found\n",
      "  warn(f\"Failed to load image Python extension: {e}\")\n"
     ]
    },
    {
     "name": "stdout",
     "output_type": "stream",
     "text": [
      "The ERA5 raster has spatial dimensions: (0.10000000419197502, -0.1000000004915847)\n",
      "NDVI dataset resolution: (0.043782177927351104, 0.04378217792735114)\n",
      "Precipitation dataset resolution (0.10000000419197502, -0.1000000004915847)\n"
     ]
    }
   ],
   "source": [
    "from p_drought_indices.analysis.DeepLearning.pipeline_gwnet import data_preparation \n",
    "from p_drought_indices.analysis.DeepLearning.pipeline_convlstm import training_lstm\n",
    "import pickle\n",
    "import os\n",
    "import matplotlib.pyplot as plt\n",
    "from p_drought_indices.functions.function_clns import load_config, prepare, CNN_split, interpolate_prepare\n",
    "import numpy as np\n",
    "from p_drought_indices.analysis.DeepLearning.dataset import CustomDataset\n",
    "from torch.utils.data import DataLoader\n",
    "\n",
    "CONFIG_PATH = \"../config.yaml\"\n",
    "sub_precp, ds = data_preparation(CONFIG_PATH)\n",
    "sub_precp = sub_precp.to_dataset()\n",
    "data, target = interpolate_prepare(sub_precp, ds)\n",
    "train_split = 0.8\n",
    "training_lstm(CONFIG_PATH, data, target, train_split = train_split)"
   ]
  }
 ],
 "metadata": {
  "kernelspec": {
   "display_name": "gis_py39",
   "language": "python",
   "name": "python3"
  },
  "language_info": {
   "codemirror_mode": {
    "name": "ipython",
    "version": 3
   },
   "file_extension": ".py",
   "mimetype": "text/x-python",
   "name": "python",
   "nbconvert_exporter": "python",
   "pygments_lexer": "ipython3",
   "version": "3.9.16"
  },
  "orig_nbformat": 4
 },
 "nbformat": 4,
 "nbformat_minor": 2
}
