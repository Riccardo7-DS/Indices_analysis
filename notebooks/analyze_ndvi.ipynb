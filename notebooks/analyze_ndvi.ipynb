{
 "cells": [
  {
   "cell_type": "code",
   "execution_count": null,
   "metadata": {},
   "outputs": [],
   "source": [
    "from p_drought_indices.analysis.DeepLearning.GWNET.pipeline_gwnet import data_preparation, check_xarray_dataset\n",
    "import pickle\n",
    "import os\n",
    "import matplotlib.pyplot as plt\n",
    "from p_drought_indices.functions.function_clns import load_config\n",
    "import numpy as np\n",
    "from p_drought_indices.configs.config_3x3_16_3x3_32_3x3_64 import config\n",
    "import torch\n",
    "import pandas as pd\n",
    "\n",
    "product = \"ERA5_land\"\n",
    "CONFIG_PATH = \"../config.yaml\"\n",
    "config_file = load_config(CONFIG_PATH)\n",
    "\n",
    "path = os.path.join(config_file[\"NDVI\"][\"ndvi_path\"], \"\")"
   ]
  },
  {
   "cell_type": "code",
   "execution_count": null,
   "metadata": {},
   "outputs": [],
   "source": [
    "import itertools\n",
    "# Step 1: Identify non-null coordinates for lat and lon\n",
    "non_null_coords = {\n",
    "    dim: ds[dim].values\n",
    "    for dim in ['lat', 'lon']\n",
    "    if not ds[dim].isnull().all()\n",
    "}\n",
    "\n",
    "# Step 2: Generate combinations of non-null lat and lon coordinates\n",
    "combinations = list(itertools.product(*non_null_coords.values()))\n",
    "\n",
    "print(combinations)\n",
    "\n",
    "year_to_select = 2015\n",
    "\n",
    "for coord in combinations:\n",
    "    if False in ds.sel(lat = coord[0], lon = coord[1]).isnull():\n",
    "        ds.sel(lat = coord[0], lon = coord[1], time=ds['time'].dt.year == year_to_select ).plot()\n",
    "        plt.show()"
   ]
  },
  {
   "cell_type": "code",
   "execution_count": 1,
   "metadata": {},
   "outputs": [],
   "source": [
    "import os\n",
    "os.environ[\"USE_PATH_FOR_GDAL_PYTHON\"] = \"YES\"\n",
    "from osgeo import gdal"
   ]
  },
  {
   "cell_type": "code",
   "execution_count": 3,
   "metadata": {},
   "outputs": [],
   "source": [
    "import numpy as np\n",
    "import matplotlib.pyplot as plt\n",
    "from osgeo import gdal, gdal_array\n",
    "import datetime as dt\n",
    "import pandas as pd"
   ]
  }
 ],
 "metadata": {
  "kernelspec": {
   "display_name": "gis2_py39",
   "language": "python",
   "name": "python3"
  },
  "language_info": {
   "codemirror_mode": {
    "name": "ipython",
    "version": 3
   },
   "file_extension": ".py",
   "mimetype": "text/x-python",
   "name": "python",
   "nbconvert_exporter": "python",
   "pygments_lexer": "ipython3",
   "version": "3.9.16"
  },
  "orig_nbformat": 4
 },
 "nbformat": 4,
 "nbformat_minor": 2
}
