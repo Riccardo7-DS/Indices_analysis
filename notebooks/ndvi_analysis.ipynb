{
 "cells": [
  {
   "cell_type": "code",
   "execution_count": null,
   "metadata": {},
   "outputs": [],
   "source": [
    "import os\n",
    "from utils.function_clns import config, prepare, subsetting_pipeline\n",
    "import xarray as xr\n",
    "import warnings\n",
    "warnings.filterwarnings('ignore')\n",
    "\n",
    "dataset = prepare(subsetting_pipeline( \n",
    "            xr.open_dataarray(os.path.join(config['NDVI']['ndvi_path'], \n",
    "            \"ndvi_smoothed_w2s.nc\")))).transpose(\"time\",\"lon\",\"lat\")\n"
   ]
  },
  {
   "cell_type": "code",
   "execution_count": null,
   "metadata": {},
   "outputs": [],
   "source": [
    "import xarray as xr\n",
    "from utils.function_clns import subsetting_pipeline, prepare\n",
    "import numpy as np\n",
    "\n",
    "path = \"/media/BIFROST/N2/Riccardo/MSG/msg_data/NDVI/archive.eumetsat.int/umarf-gwt/onlinedownload/riccardo7/4859700/temp/time/ndvi_eumetsat.nc\"\n",
    "chunks ={'time': -1, \"lat\": 250, \"lon\":250}\n",
    "ds_ndvi = xr.open_dataset(path, engine=\"netcdf4\", chunks=chunks)\n",
    "\n",
    "ds_ndvi = subsetting_pipeline(ds_ndvi).rename({\"Band1\":\"ndvi\"})\n",
    "ds_ndvi[\"ndvi\"] = xr.where(ds_ndvi[\"ndvi\"]==255, np.NaN, ds_ndvi[\"ndvi\"])\n",
    "ndvi = ds_ndvi[\"ndvi\"]/100"
   ]
  },
  {
   "cell_type": "code",
   "execution_count": null,
   "metadata": {},
   "outputs": [],
   "source": [
    "import pandas as pd\n",
    "import xesmf as xe\n",
    "ndvi = prepare(ndvi)\n",
    "\n",
    "regridder = xe.Regridder(ndvi, dataset, 'bilinear')\n",
    "\n",
    "# Reproject the entire dataset\n",
    "ds_reprojected = regridder(ndvi)\n",
    "ds_reprojected = ds_reprojected.transpose(\"time\",\"lon\",\"lat\")\n",
    "\n",
    "print(dataset.rio.resolution())\n",
    "print(ds_reprojected.rio.resolution())\n",
    "\n",
    "ds_reprojected = ds_reprojected.drop_duplicates(dim=[\"time\"])\n",
    "#dataset = dataset.sel(time=slice(ds_reprojected.time.min(), ds_reprojected.time.max()))\n",
    "\n",
    "ds_reprojected['time'] = pd.to_datetime(ds_reprojected['time'].values, format='%Y-%m-%d')\n",
    "ds_reprojected['time'] =  ds_reprojected.indexes[\"time\"].normalize()\n",
    "dataset['time'] = pd.to_datetime(dataset['time'].values, format='%Y-%m-%d')\n",
    "dataset['time'] =  dataset.indexes[\"time\"].normalize()\n",
    "\n",
    "# Find the common time values between ds1 and ds2\n",
    "common_times = xr.align(ds_reprojected['time'], dataset['time'])[0].values\n",
    "# Select only the common time values in ds1 and ds2\n",
    "ds1_filtered_1 = dataset.sel(time=common_times)\n",
    "ds_2_filtered_1 = ds_reprojected.sel(time=common_times)"
   ]
  },
  {
   "cell_type": "code",
   "execution_count": null,
   "metadata": {},
   "outputs": [],
   "source": [
    "import xskillscore as xs\n",
    "corr_1 = xs.pearson_r(ds1_filtered_1, ds_2_filtered_1, dim=\"time\", skipna=True)\n",
    "rmse_1 = xs.rmse(ds1_filtered_1, ds_2_filtered_1, dim=\"time\", skipna=True)\n",
    "mae_1 = xs.mae(ds1_filtered_1, ds_2_filtered_1, dim=\"time\", skipna=True)\n",
    "mape_1 = xs.mape(ds1_filtered_1, ds_2_filtered_1, dim=\"time\", skipna=True)"
   ]
  },
  {
   "cell_type": "code",
   "execution_count": null,
   "metadata": {},
   "outputs": [],
   "source": [
    "corr_1.transpose(\"lat\",\"lon\").plot(vmin=0)"
   ]
  },
  {
   "cell_type": "code",
   "execution_count": null,
   "metadata": {},
   "outputs": [],
   "source": [
    "rmse_1.transpose(\"lat\",\"lon\").plot(vmax=0.2)"
   ]
  },
  {
   "cell_type": "code",
   "execution_count": null,
   "metadata": {},
   "outputs": [],
   "source": [
    "print(\"mean correlation is\", corr_1.mean().values)\n",
    "print(\"mean rmse is\", rmse_1.mean().values)\n",
    "print(\"mean mae is\", mae_1.mean().values)\n",
    "print(\"mean mape is\", mape_1.mean().values)"
   ]
  },
  {
   "cell_type": "markdown",
   "metadata": {},
   "source": [
    "### LAI"
   ]
  },
  {
   "cell_type": "code",
   "execution_count": null,
   "metadata": {},
   "outputs": [],
   "source": [
    "from utils.function_clns import config \n",
    "import os\n",
    "import xarray as xr\n",
    "\n",
    "chunks ={'time': -1, \"lat\": 250, \"lon\":250}\n",
    "\n",
    "path_lai = config[\"LAI\"][\"path\"]\n",
    "lai = xr.open_mfdataset(os.path.join(path_lai, \"*.nc\"), chunks=chunks)\n",
    "\n",
    "from utils.function_clns import subsetting_pipeline\n",
    "lai_ds = subsetting_pipeline(lai)\n",
    "\n",
    "import pandas as pd\n",
    "import xesmf as xe\n",
    "lai_ds = prepare(lai_ds)\n",
    "\n",
    "regridder = xe.Regridder(dataset, lai_ds, 'bilinear')\n",
    "\n",
    "# Reproject the entire dataset\n",
    "ds_reprojected = regridder(dataset)\n",
    "#ds_reprojected = ds_reprojected.transpose(\"time\",\"lon\",\"lat\")\n",
    "\n",
    "print(lai_ds.rio.resolution())\n",
    "print(ds_reprojected.rio.resolution())\n",
    "\n",
    "ds_reprojected = ds_reprojected.drop_duplicates(dim=[\"time\"])\n",
    "lai_ds = lai_ds.drop_duplicates(dim=[\"time\"])\n",
    "\n",
    "#dataset = dataset.sel(time=slice(ds_reprojected.time.min(), ds_reprojected.time.max()))\n",
    "\n",
    "ds_reprojected['time'] = pd.to_datetime(ds_reprojected['time'].values, format='%Y-%m-%d')\n",
    "ds_reprojected['time'] =  ds_reprojected.indexes[\"time\"].normalize()\n",
    "lai_ds['time'] = pd.to_datetime(lai_ds['time'].values, format='%Y-%m-%d')\n",
    "lai_ds['time'] =  lai_ds.indexes[\"time\"].normalize()\n",
    "\n",
    "# Find the common time values between ds1 and ds2\n",
    "common_times = xr.align(ds_reprojected['time'], lai_ds['time'])[0].values\n",
    "# Select only the common time values in ds1 and ds2\n",
    "ds1_filtered = lai_ds.sel(time=common_times).chunk(chunks)\n",
    "ds2_filtered = ds_reprojected.sel(time=common_times).chunk(chunks)"
   ]
  },
  {
   "cell_type": "markdown",
   "metadata": {},
   "source": [
    "## NDVI 10"
   ]
  },
  {
   "cell_type": "code",
   "execution_count": 7,
   "metadata": {},
   "outputs": [
    {
     "name": "stderr",
     "output_type": "stream",
     "text": [
      "ERROR:fiona._env:PROJ: internal_proj_identify: /home/woden/anaconda3/share/proj/proj.db lacks DATABASE.LAYOUT.VERSION.MAJOR / DATABASE.LAYOUT.VERSION.MINOR metadata. It comes from another PROJ installation.\n",
      "ERROR:fiona._env:PROJ: internal_proj_identify: /home/woden/anaconda3/share/proj/proj.db lacks DATABASE.LAYOUT.VERSION.MAJOR / DATABASE.LAYOUT.VERSION.MINOR metadata. It comes from another PROJ installation.\n",
      "ERROR 1: PROJ: internal_proj_create_from_database: /home/woden/anaconda3/share/proj/proj.db lacks DATABASE.LAYOUT.VERSION.MAJOR / DATABASE.LAYOUT.VERSION.MINOR metadata. It comes from another PROJ installation.\n",
      "ERROR 1: PROJ: internal_proj_identify: /home/woden/anaconda3/share/proj/proj.db lacks DATABASE.LAYOUT.VERSION.MAJOR / DATABASE.LAYOUT.VERSION.MINOR metadata. It comes from another PROJ installation.\n",
      "ERROR 1: PROJ: internal_proj_identify: /home/woden/anaconda3/share/proj/proj.db lacks DATABASE.LAYOUT.VERSION.MAJOR / DATABASE.LAYOUT.VERSION.MINOR metadata. It comes from another PROJ installation.\n",
      "INFO:rasterio._env:GDAL signalled an error: err_no=1, msg='PROJ: internal_proj_create_from_database: /home/woden/anaconda3/share/proj/proj.db lacks DATABASE.LAYOUT.VERSION.MAJOR / DATABASE.LAYOUT.VERSION.MINOR metadata. It comes from another PROJ installation.'\n"
     ]
    }
   ],
   "source": [
    "import xarray as xr \n",
    "import os\n",
    "from vegetation.preprocessing.ndvi_prep import load_landsaf_ndvi\n",
    "\n",
    "path = \"/media/BIFROST/N2/Riccardo/output\"\n",
    "target_store = \"output_file.zarr\"\n",
    "zarr_path = os.path.join(path, target_store)\n",
    "ds = load_landsaf_ndvi(zarr_path)"
   ]
  },
  {
   "cell_type": "code",
   "execution_count": 8,
   "metadata": {},
   "outputs": [
    {
     "data": {
      "text/plain": [
       "<matplotlib.collections.QuadMesh at 0x7fcffa21d610>"
      ]
     },
     "execution_count": 8,
     "metadata": {},
     "output_type": "execute_result"
    },
    {
     "data": {
      "image/png": "[encoded data removed]",
      "text/plain": [
       "<Figure size 640x480 with 2 Axes>"
      ]
     },
     "metadata": {},
     "output_type": "display_data"
    }
   ],
   "source": [
    "import numpy as np\n",
    "ds.ndvi_10.isel(time=443).plot(cmap=\"RdYlGn\", vmin=0)"
   ]
  },
  {
   "cell_type": "code",
   "execution_count": null,
   "metadata": {},
   "outputs": [],
   "source": [
    "import pandas as pd\n",
    "\n"
   ]
  },
  {
   "cell_type": "code",
   "execution_count": null,
   "metadata": {},
   "outputs": [],
   "source": [
    "import pandas as pd\n",
    "import xesmf as xe\n",
    "from utils.function_clns import prepare\n",
    "\n",
    "print(final_dataset.rio.resolution())\n",
    "print(ds.rio.resolution())\n",
    "\n",
    "chunks ={'time': -1, \"lat\": 250, \"lon\":250}\n",
    "\n",
    "\n",
    "repr_ds = prepare(final_dataset)\n",
    "regridder = xe.Regridder(repr_ds, ds, 'bilinear')\n",
    "\n",
    "# Reproject the entire dataset\n",
    "ds_reprojected = regridder(repr_ds)\n",
    "#ds_reprojected = ds_reprojected.transpose(\"time\",\"lon\",\"lat\")\n",
    "\n",
    "print(ds.rio.resolution())\n",
    "print(ds_reprojected.rio.resolution())\n",
    "\n",
    "ds_reprojected = ds_reprojected.drop_duplicates(dim=[\"time\"])\n",
    "ds = ds.drop_duplicates(dim=[\"time\"])\n",
    "\n",
    "#dataset = dataset.sel(time=slice(ds_reprojected.time.min(), ds_reprojected.time.max()))\n",
    "\n",
    "ds_reprojected['time'] = pd.to_datetime(ds_reprojected['time'].values, format='%Y-%m-%d')\n",
    "ds_reprojected['time'] =  ds_reprojected.indexes[\"time\"].normalize()\n",
    "ds['time'] = pd.to_datetime(ds['time'].values, format='%Y-%m-%d')\n",
    "ds['time'] =  ds.indexes[\"time\"].normalize()\n",
    "\n",
    "# Find the common time values between ds1 and ds2\n",
    "common_times = xr.align(ds_reprojected['time'], ds['time'])[0].values\n",
    "# Select only the common time values in ds1 and ds2\n",
    "ds1_filtered = ds.sel(time=common_times).chunk(chunks)\n",
    "ds2_filtered = ds_reprojected.sel(time=common_times).chunk(chunks)\n",
    "ds2_filtered = xr.where(ds1_filtered.ndvi_10.isnull(), np.NaN, ds2_filtered)"
   ]
  },
  {
   "cell_type": "code",
   "execution_count": null,
   "metadata": {},
   "outputs": [],
   "source": [
    "import xskillscore as xs\n",
    "corr_10 = xs.pearson_r(ds1_filtered.ndvi_10, ds2_filtered, dim=\"time\", skipna=True)\n",
    "rmse_10 = xs.rmse(ds1_filtered.ndvi_10, ds2_filtered, dim=\"time\", skipna=True)\n",
    "mae_10 = xs.mae(ds1_filtered.ndvi_10, ds2_filtered, dim=\"time\", skipna=True)\n",
    "mape_10 = xs.mape(ds1_filtered.ndvi_10, ds2_filtered, dim=\"time\", skipna=True)"
   ]
  },
  {
   "cell_type": "code",
   "execution_count": null,
   "metadata": {},
   "outputs": [],
   "source": [
    "corr_10.plot(vmin=0)"
   ]
  },
  {
   "cell_type": "code",
   "execution_count": null,
   "metadata": {},
   "outputs": [],
   "source": [
    "rmse_10.plot(vmax=0.4, vmin=0)"
   ]
  },
  {
   "cell_type": "code",
   "execution_count": null,
   "metadata": {},
   "outputs": [],
   "source": [
    "print(\"mean correlation is\", corr_10.mean().values)\n",
    "print(\"mean rmse is\", rmse_10.mean().values)\n",
    "print(\"mean mae is\", mae_10.mean().values)\n",
    "print(\"mean mape is\", mape_10.mean().values)"
   ]
  },
  {
   "cell_type": "markdown",
   "metadata": {},
   "source": [
    "### Time series"
   ]
  },
  {
   "cell_type": "code",
   "execution_count": null,
   "metadata": {},
   "outputs": [],
   "source": [
    "ndvi_seviri_mean = ds1_filtered_1.mean([\"lat\",\"lon\"]) ## ours\n",
    "ndvi_eumetsat_mean = ds_2_filtered_1.mean([\"lat\",\"lon\"]) ## eumetsat ndvi"
   ]
  },
  {
   "cell_type": "code",
   "execution_count": null,
   "metadata": {},
   "outputs": [],
   "source": [
    "ndvi_seviri_mean.plot(color=\"red\")\n",
    "ndvi_eumetsat_mean.plot(color=\"green\")"
   ]
  },
  {
   "cell_type": "code",
   "execution_count": null,
   "metadata": {},
   "outputs": [],
   "source": [
    "ndvi_10_lsaf = ds1_filtered.ndvi_10.mean([\"lat\",\"lon\"]) ## landsaf ndvi\n",
    "ndvi_10 = ds2_filtered.mean([\"lat\",\"lon\"]) ## ours ndvi 10 days"
   ]
  },
  {
   "cell_type": "code",
   "execution_count": null,
   "metadata": {},
   "outputs": [],
   "source": [
    "ds2_filtered.isel(time=0).plot(vmin=0, cmap=\"RdYlGn\")"
   ]
  },
  {
   "cell_type": "code",
   "execution_count": null,
   "metadata": {},
   "outputs": [],
   "source": [
    "ds1_filtered.ndvi_10.isel(time=0).plot(vmin=0, cmap=\"RdYlGn\")"
   ]
  },
  {
   "cell_type": "code",
   "execution_count": null,
   "metadata": {},
   "outputs": [],
   "source": [
    "ds.ndvi_10.mean([\"time\"]).plot(vmin=0, cmap=\"RdYlGn\")"
   ]
  },
  {
   "cell_type": "code",
   "execution_count": null,
   "metadata": {},
   "outputs": [],
   "source": [
    "time_min=\"2010-01-01\"\n",
    "time_max=\"2010-12-31\"\n",
    "lat = 6\n",
    "lon= 37.5\n",
    "\n",
    "ds.ndvi_10.sel(lon=lon, lat = lat, method=\"nearest\").sel(time=slice(time_min, time_max)).plot(color=\"red\")"
   ]
  },
  {
   "cell_type": "code",
   "execution_count": null,
   "metadata": {},
   "outputs": [],
   "source": [
    "time_min=\"2010-01-01\"\n",
    "time_max=\"2010-12-31\"\n",
    "lat = 7.5\n",
    "lon= 36\n",
    "ds2_filtered.sel(lon=lon, lat = lat, method=\"nearest\").sel(time=slice(time_min, time_max)).plot(color=\"red\")\n",
    "ds1_filtered.sel(lon=lon, lat =lat, method=\"nearest\").sel(time=slice(time_min, time_max)).ndvi_10.plot(color=\"green\")"
   ]
  },
  {
   "cell_type": "code",
   "execution_count": null,
   "metadata": {},
   "outputs": [],
   "source": [
    "from vegetation.analysis.indices import compute_vci\n",
    "\n",
    "vci_lsaf = compute_vci(ds1_filtered.ndvi_10)\n",
    "vci_ours = compute_vci(ds2_filtered)"
   ]
  },
  {
   "cell_type": "code",
   "execution_count": null,
   "metadata": {},
   "outputs": [],
   "source": [
    "time_min=\"2018-01-01\"\n",
    "time_max=\"2019-12-31\"\n",
    "lat = 6\n",
    "lon= 39\n",
    "vci_ours.sel(lon=lon, lat = lat, method=\"nearest\").sel(time=slice(time_min, time_max)).plot(color=\"red\")\n",
    "vci_lsaf.sel(lon=lon, lat =lat, method=\"nearest\").sel(time=slice(time_min, time_max)).plot(color=\"green\")"
   ]
  },
  {
   "cell_type": "code",
   "execution_count": null,
   "metadata": {},
   "outputs": [],
   "source": [
    "from analysis.visualizations.viz_vci_spi import get_subplot_year, box_plot_year\n",
    "years = [i for i in np.arange(2008, 2020)]\n",
    "\n",
    "\n",
    "df_list_1, list_dates_1 = get_subplot_year(ds = ds1_filtered.ndvi_10.to_dataset(name=\"ndvi\"), \n",
    "                                        var=\"ndvi\", year=years)\n",
    "\n",
    "df_list, list_dates = get_subplot_year(ds = ds2_filtered.to_dataset(name=\"ndvi\"), \n",
    "                                        var=\"ndvi\", year=years)"
   ]
  },
  {
   "cell_type": "code",
   "execution_count": null,
   "metadata": {},
   "outputs": [],
   "source": [
    "def plot_climatology(df_list, list_dates):\n",
    "    import matplotlib.pyplot as plt\n",
    "    from matplotlib import gridspec\n",
    "\n",
    "    fig = plt.figure(figsize=(10,4))\n",
    "    gs = gridspec.GridSpec(1, 2) \n",
    "\n",
    "    # the first subplot\n",
    "    ax0 = fig.add_subplot(gs[0])\n",
    "    #ax0.set_title(\"NDVI for 2009\")\n",
    "    ax0.set_ylabel(\"NDVI value\", fontsize=9)\n",
    "    ax0.set_xlabel(\"Day of the year\", fontsize=9)\n",
    "\n",
    "    line0 = ax0.boxplot(df_list, showfliers=False, \n",
    "                patch_artist=True, \n",
    "                labels=list_dates, \n",
    "                showmeans=False,\n",
    "                medianprops=dict(color=\"green\",ls=\"--\",lw=1), \n",
    "                positions=np.arange(0, len(df_list)*0.1, 0.1),\n",
    "                meanline=True) \n",
    "                # meanprops=dict(color=\"red\", ls=\"-\", lw=2))\n",
    "\n",
    "    n=15\n",
    "    for ax in [ax0]:\n",
    "        ax.set_axisbelow(True)\n",
    "        ax.yaxis.grid(color='grey', linestyle='dashed')\n",
    "        [l.set_visible(False) for (i,l) in enumerate(ax.xaxis.get_ticklabels()) if i % n != 0]\n",
    "        [l.set_visible(False) for (i,l) in enumerate(ax.xaxis.get_gridlines()) if i % n != 0]\n",
    "        ax.tick_params(labelrotation=45, tick1On=False)\n",
    "\n",
    "    for med in line0['medians']:\n",
    "        med.set_color('red')\n",
    "\n",
    "    for box in line0[\"boxes\"] :\n",
    "        box.set_color(\"lightgrey\")\n",
    "        box.set_alpha(0.8)\n",
    "\n",
    "    for whisk in line0[\"whiskers\"]:\n",
    "        whisk.set_color(\"green\")\n",
    "\n",
    "    gs.tight_layout(fig, rect=[0, 0, 1, 0.95])"
   ]
  },
  {
   "cell_type": "code",
   "execution_count": null,
   "metadata": {},
   "outputs": [],
   "source": [
    "plot_climatology(df_list_1, list_dates_1)"
   ]
  },
  {
   "cell_type": "code",
   "execution_count": null,
   "metadata": {},
   "outputs": [],
   "source": [
    "plot_climatology(df_list, list_dates)"
   ]
  },
  {
   "cell_type": "code",
   "execution_count": null,
   "metadata": {},
   "outputs": [],
   "source": [
    "ndvi_10_lsaf.plot(color=\"green\")\n",
    "ndvi_10.plot(color=\"red\")"
   ]
  },
  {
   "cell_type": "code",
   "execution_count": null,
   "metadata": {},
   "outputs": [],
   "source": [
    "import matplotlib.pyplot as plt\n",
    "\n",
    "def plot_random_points_over_time(data_array1, data_array2):\n",
    "\n",
    "    lat = data_array1[\"lat\"].values\n",
    "    lon = data_array1[\"lon\"].values\n",
    "\n",
    "    def subset_with_random_points():\n",
    "        # Get random latitude and longitude indices\n",
    "        random_lat = np.random.choice(lat)\n",
    "        random_lon = np.random.choice(lon)\n",
    "\n",
    "        # Extract data for the random points\n",
    "        random_point_data1 = data_array1.sel(lat=random_lat, lon=random_lon)\n",
    "        random_point_data2 = data_array2.sel(lat=random_lat, lon=random_lon)\n",
    "        return random_point_data1, random_point_data2, random_lat, random_lon\n",
    "    \n",
    "    random_point_data1, random_point_data2, random_lat, random_lon = subset_with_random_points()\n",
    "\n",
    "    while random_point_data1.isnull().all() == True:\n",
    "        random_point_data1, random_point_data2, random_lat, random_lon = subset_with_random_points()\n",
    "\n",
    "    # Create a time array\n",
    "    time = data_array1.time.values\n",
    "\n",
    "    # Plot the random points over time\n",
    "    plt.figure(figsize=(10, 6))\n",
    "    plt.plot(time, random_point_data1, label='Reference', marker='o', color=\"green\")\n",
    "    plt.plot(time, random_point_data2, label='Calculated', marker='o',color=\"red\")\n",
    "\n",
    "    # Add labels and legend\n",
    "    plt.xlabel('Time')\n",
    "    plt.ylabel('Value')\n",
    "    plt.title(f\"Lat {round(random_lat,2)} Lon {round(random_lon,2)} Over Time\")\n",
    "    plt.legend()\n",
    "\n",
    "    # Show the plot\n",
    "    plt.show()"
   ]
  },
  {
   "cell_type": "code",
   "execution_count": null,
   "metadata": {},
   "outputs": [],
   "source": [
    "plot_random_points_over_time(ds1_filtered.ndvi_10, ds2_filtered)"
   ]
  },
  {
   "cell_type": "code",
   "execution_count": null,
   "metadata": {},
   "outputs": [],
   "source": [
    "time_min = \"2015-01-01\"\n",
    "time_max = \"2019-12-31\"\n",
    "\n",
    "plot_random_points_over_time(ds_2_filtered_1.sel(time=slice(time_min, time_max)), \n",
    "                             ds1_filtered_1.sel(time=slice(time_min, time_max)))"
   ]
  },
  {
   "cell_type": "code",
   "execution_count": null,
   "metadata": {},
   "outputs": [],
   "source": [
    "time_min = \"2015-01-01\"\n",
    "time_max = \"2019-12-31\"\n",
    "\n",
    "plot_random_points_over_time(ds_2_filtered_1.sel(time=slice(time_min, time_max)), \n",
    "                             ds1_filtered_1.sel(time=slice(time_min, time_max)))"
   ]
  },
  {
   "cell_type": "code",
   "execution_count": null,
   "metadata": {},
   "outputs": [],
   "source": [
    "time_min = \"2012-01-01\"\n",
    "time_max = \"2016-12-31\"\n",
    "\n",
    "plot_random_points_over_time(ds_2_filtered_1.sel(time=slice(time_min, time_max)), \n",
    "                             ds1_filtered_1.sel(time=slice(time_min, time_max)))"
   ]
  },
  {
   "cell_type": "code",
   "execution_count": null,
   "metadata": {},
   "outputs": [],
   "source": [
    "lat = 3.13\n",
    "lon = 37.06\n",
    "\n",
    "ds_2_filtered_1.sel(lat=lat, lon=lon, method=\"nearest\").plot(color=\"green\")\n",
    "ds1_filtered_1.sel(lat=lat, lon=lon, method=\"nearest\").plot(color=\"red\")"
   ]
  },
  {
   "cell_type": "markdown",
   "metadata": {},
   "source": [
    "### Another lat lon point with good smoothing in the area with high rmse"
   ]
  },
  {
   "cell_type": "code",
   "execution_count": null,
   "metadata": {},
   "outputs": [],
   "source": [
    "lat = 0\n",
    "lon = 37.06\n",
    "\n",
    "ds_2_filtered_1.sel(lat=lat, lon=lon, method=\"nearest\").plot(color=\"green\")\n",
    "ds1_filtered_1.sel(lat=lat, lon=lon, method=\"nearest\").plot(color=\"red\")"
   ]
  },
  {
   "cell_type": "markdown",
   "metadata": {},
   "source": [
    "### Max NDVI"
   ]
  },
  {
   "cell_type": "code",
   "execution_count": null,
   "metadata": {},
   "outputs": [],
   "source": [
    "import xarray as xr\n",
    "from utils.function_clns import subsetting_pipeline, prepare\n",
    "import numpy as np\n",
    "import warnings\n",
    "warnings.filterwarnings('ignore')\n",
    "from vegetation.preprocessing.ndvi_prep import load_eumetsat_ndvi_max\n",
    "\n",
    "\n",
    "filepath = os.path.join(config[\"NDVI\"][\"ndvi_path\"], \"seviri_daily_ndvimax.nc\")\n",
    "max_ndvi = load_eumetsat_ndvi_max(filepath)"
   ]
  },
  {
   "cell_type": "code",
   "execution_count": null,
   "metadata": {},
   "outputs": [],
   "source": [
    "import pandas as pd\n",
    "import xesmf as xe\n",
    "max_ndvi = prepare(max_ndvi)\n",
    "\n",
    "regridder = xe.Regridder(max_ndvi, dataset, 'bilinear')\n",
    "\n",
    "# Reproject the entire dataset\n",
    "ds_reprojected = regridder(max_ndvi)\n",
    "ds_reprojected = ds_reprojected.transpose(\"time\",\"lon\",\"lat\")\n",
    "\n",
    "print(dataset.rio.resolution())\n",
    "print(ds_reprojected.rio.resolution())\n",
    "\n",
    "ds_reprojected = ds_reprojected.drop_duplicates(dim=[\"time\"])\n",
    "#dataset = dataset.sel(time=slice(ds_reprojected.time.min(), ds_reprojected.time.max()))\n",
    "\n",
    "ds_reprojected['time'] = pd.to_datetime(ds_reprojected['time'].values, format='%Y-%m-%d')\n",
    "ds_reprojected['time'] =  ds_reprojected.indexes[\"time\"].normalize()\n",
    "dataset['time'] = pd.to_datetime(dataset['time'].values, format='%Y-%m-%d')\n",
    "dataset['time'] =  dataset.indexes[\"time\"].normalize()\n",
    "\n",
    "# Find the common time values between ds1 and ds2\n",
    "common_times = xr.align(ds_reprojected['time'], dataset['time'])[0].values\n",
    "# Select only the common time values in ds1 and ds2\n",
    "ds1_filtered_max = dataset.sel(time=common_times).chunk({\"time\": -1, \"lat\":50, \"lon\":50})\n",
    "ds_2_filtered_max = ds_reprojected.sel(time=common_times).chunk({\"time\":-1, \"lat\":50, \"lon\":50})"
   ]
  },
  {
   "cell_type": "code",
   "execution_count": null,
   "metadata": {},
   "outputs": [],
   "source": [
    "time_min=\"2013-01-01\"\n",
    "time_max=\"2013-12-31\"\n",
    "lat = 7.5\n",
    "lon= 36\n",
    "ds1_filtered_max.sel(lon=lon, lat = lat, method=\"nearest\").sel(time=slice(time_min, time_max)).plot(color=\"red\")\n",
    "ds_2_filtered_max.sel(lon=lon, lat =lat, method=\"nearest\").sel(time=slice(time_min, time_max)).plot(color=\"green\")"
   ]
  },
  {
   "cell_type": "code",
   "execution_count": null,
   "metadata": {},
   "outputs": [],
   "source": [
    "ds_2_filtered_max.sel(lon=lon, lat =lat, method=\"nearest\").sel(time=slice(time_min, time_max)).plot(color=\"green\")"
   ]
  },
  {
   "cell_type": "code",
   "execution_count": null,
   "metadata": {},
   "outputs": [],
   "source": [
    "ds1_filtered_max.sel(lon=lon, lat = lat, method=\"nearest\").sel(time=slice(time_min, time_max)).plot(color=\"red\")"
   ]
  },
  {
   "cell_type": "code",
   "execution_count": null,
   "metadata": {},
   "outputs": [],
   "source": [
    "import xskillscore as xs\n",
    "corr_max = xs.pearson_r(ds1_filtered_max, ds_2_filtered_max, dim=\"time\", skipna=True)\n",
    "rmse_max = xs.rmse(ds1_filtered_max, ds_2_filtered_max, dim=\"time\", skipna=True)\n",
    "mae_max = xs.mae(ds1_filtered_max, ds_2_filtered_max, dim=\"time\", skipna=True)\n",
    "mape_max = xs.mape(ds1_filtered_max, ds_2_filtered_max, dim=\"time\", skipna=True)"
   ]
  },
  {
   "cell_type": "code",
   "execution_count": null,
   "metadata": {},
   "outputs": [],
   "source": [
    "print(\"mean correlation is\", corr_max.mean().values)\n",
    "print(\"mean rmse is\", rmse_max.mean().values)\n",
    "print(\"mean mae is\", mae_max.mean().values)\n",
    "print(\"mean mape is\", mape_max.mean().values)"
   ]
  },
  {
   "cell_type": "code",
   "execution_count": null,
   "metadata": {},
   "outputs": [],
   "source": [
    "corr_max.transpose(\"lat\",\"lon\").plot(vmin=0)"
   ]
  },
  {
   "cell_type": "code",
   "execution_count": null,
   "metadata": {},
   "outputs": [],
   "source": [
    "rmse_max.transpose(\"lat\",\"lon\").plot(vmax=0.3)"
   ]
  },
  {
   "cell_type": "markdown",
   "metadata": {},
   "source": [
    "#### Modifying NDVI max "
   ]
  },
  {
   "cell_type": "code",
   "execution_count": null,
   "metadata": {},
   "outputs": [],
   "source": [
    "# Sample calculation function\n",
    "def apply_ndvi_conversion(ndvi_data):\n",
    "    ndvi_data[np.isnan(ndvi_data)] = -2\n",
    "    ndvi_data = np.floor((ndvi_data + 1) * 128)  # [-1 1] -> [0 256]\n",
    "    ndvi_data[ndvi_data > 255] = 255\n",
    "    ndvi_data[ndvi_data < 0] = 0\n",
    "    return np.uint8(ndvi_data)  # change data type from double to uint8\n",
    "\n",
    "def scale_ndvi(ndvi):\n",
    "    scaled_ndvi = ((ndvi + 1) * 127)\n",
    "    scaled_ndvi = xr.where(scaled_ndvi.isnull(), 255, scaled_ndvi)\n",
    "    return scaled_ndvi.astype(int)\n",
    "\n",
    "# Apply the function to the NDVI data variable in the dataset\n",
    "# Create a new dataset with the transformed NDVI values\n",
    "ds_transformed = dataset.copy()\n",
    "\n",
    "ds_converted= scale_ndvi(ds_transformed)\n",
    "ds_converted = xr.where(ds_converted==255, np.NaN, ds_converted)\n",
    "ds_converted = (ds_converted/254)"
   ]
  },
  {
   "cell_type": "code",
   "execution_count": null,
   "metadata": {},
   "outputs": [],
   "source": [
    "ds_converted.plot()"
   ]
  },
  {
   "cell_type": "code",
   "execution_count": null,
   "metadata": {},
   "outputs": [],
   "source": [
    "norm_ndvi = (ds1_filtered_max - ds1_filtered_max.min())/(ds1_filtered_max.max() - ds1_filtered_max.min())\n",
    "zero_ndvi = xr.where(ds1_filtered_max < 0, 0, ds1_filtered_max)\n",
    "\n",
    "### Calculate histogram differences\n",
    "diff_ndvi = ds_converted - ds_2_filtered_max\n",
    "diff_ndvi_orig = ds1_filtered_max - ds_2_filtered_max\n",
    "diff_ndvi_norm = norm_ndvi - ds_2_filtered_max\n",
    "diff_zero_ndvi = zero_ndvi - ds_2_filtered_max"
   ]
  },
  {
   "cell_type": "code",
   "execution_count": null,
   "metadata": {},
   "outputs": [],
   "source": [
    "diff_ndvi_orig.plot() ## no modification"
   ]
  },
  {
   "cell_type": "code",
   "execution_count": null,
   "metadata": {},
   "outputs": [],
   "source": [
    "diff_zero_ndvi.plot() ### imputing to zero all the negative values"
   ]
  },
  {
   "cell_type": "code",
   "execution_count": null,
   "metadata": {},
   "outputs": [],
   "source": [
    "diff_ndvi_norm.plot()  ### normalizing NDVI from 0 to 1"
   ]
  },
  {
   "cell_type": "code",
   "execution_count": null,
   "metadata": {},
   "outputs": [],
   "source": [
    "diff_ndvi.plot()  ### converting NDVI to 0-255"
   ]
  },
  {
   "cell_type": "markdown",
   "metadata": {},
   "source": [
    "#### Checking correspondence between predicted and real max NDVI"
   ]
  },
  {
   "cell_type": "code",
   "execution_count": null,
   "metadata": {},
   "outputs": [],
   "source": [
    "corr_mask = xr.where(corr_max>=0.75, 1, 0)"
   ]
  },
  {
   "cell_type": "code",
   "execution_count": null,
   "metadata": {},
   "outputs": [],
   "source": [
    "# Extract predicted and real values\n",
    "predicted_values = ds1_filtered_max.where(cover_ptg<0.6).values.flatten()\n",
    "real_values = ds_2_filtered_max.where(cover_ptg<0.6).values.flatten()\n",
    "\n",
    "arr1 = predicted_values[~np.isnan(predicted_values)]\n",
    "arr2 = real_values[~np.isnan(real_values)]"
   ]
  },
  {
   "cell_type": "code",
   "execution_count": null,
   "metadata": {},
   "outputs": [],
   "source": [
    "# Create histogram\n",
    "hist1, bins1 = np.histogram(arr1, bins=1000, density=True)\n",
    "# Compute cumulative sum\n",
    "cumulative = np.cumsum(hist1)\n",
    "# Normalize cumulative sum\n",
    "ecdf1 = cumulative / np.max(cumulative)\n",
    "\n",
    "# Create histogram\n",
    "hist2, bins2 = np.histogram(arr2, bins=1000, density=True)\n",
    "# Compute cumulative sum\n",
    "cumulative = np.cumsum(hist2)\n",
    "# Normalize cumulative sum\n",
    "ecdf2 = cumulative / np.max(cumulative)\n",
    "\n",
    "\n",
    "import matplotlib.pyplot as plt\n",
    "\n",
    "# Plot ECDF\n",
    "plt.plot(bins1[1:], ecdf1, marker='.', linestyle='-', label='ECDF', color=\"green\")\n",
    "plt.plot(bins2[1:], ecdf2, linestyle='dashed', label='ECDF', color=\"red\")\n",
    "plt.xlabel('Value')\n",
    "plt.ylabel('CDF')\n",
    "plt.legend()\n",
    "plt.show()"
   ]
  },
  {
   "cell_type": "code",
   "execution_count": null,
   "metadata": {},
   "outputs": [],
   "source": [
    "sorted_da1 = np.sort(predicted_values)\n",
    "sorted_da2 = np.sort(real_values)\n",
    "import matplotlib.pyplot as plt\n",
    "# Create a quantile plot\n",
    "plt.figure(figsize=(6, 6))\n",
    "plt.scatter(sorted_da1, sorted_da2, color='blue')\n",
    "plt.xlabel('Quantiles of DataArray 1')\n",
    "plt.ylabel('Quantiles of DataArray 2')\n",
    "plt.title('QQ Plot')\n",
    "plt.grid(True)\n",
    "plt.show()"
   ]
  },
  {
   "cell_type": "code",
   "execution_count": null,
   "metadata": {},
   "outputs": [],
   "source": [
    "# Create a hexbin plot\n",
    "plt.figure(figsize=(8, 6))\n",
    "plt.hexbin(real_values, predicted_values, gridsize=50, bins='log', cmap='Blues')\n",
    "plt.colorbar(label='Count in bin')\n",
    "plt.title('Hexbin Plot of Predicted vs Real Values')\n",
    "plt.xlabel('Real Values')\n",
    "plt.ylabel('Predicted Values')\n",
    "plt.grid(True)\n",
    "plt.show()"
   ]
  },
  {
   "cell_type": "code",
   "execution_count": null,
   "metadata": {},
   "outputs": [],
   "source": [
    "# Create a hexbin plot\n",
    "plt.figure(figsize=(8, 6))\n",
    "plt.hexbin(real_values, predicted_values, gridsize=50, bins='log', cmap='inferno')\n",
    "plt.colorbar(label='Count in bin')\n",
    "plt.title('Hexbin Plot of Predicted vs Real Values')\n",
    "plt.xlabel('Real Values')\n",
    "plt.ylabel('Predicted Values')\n",
    "plt.grid(True)\n",
    "plt.show()"
   ]
  },
  {
   "cell_type": "markdown",
   "metadata": {},
   "source": [
    "### Raw vegetation data"
   ]
  },
  {
   "cell_type": "code",
   "execution_count": null,
   "metadata": {},
   "outputs": [],
   "source": [
    "res_xr = xr.open_dataset(os.path.join(\n",
    "    config[\"NDVI\"][\"ndvi_prep\"],\"final_ndvi.nc\"))\n",
    "\n",
    "time_min = ds1_filtered_1.time.min().values\n",
    "time_max = ds1_filtered_1.time.max().values\n",
    "\n",
    "lat = 3.13\n",
    "lon = 37.06\n",
    "res_xr.sel(lat=lat, lon=lon, method=\"nearest\")\\\n",
    "    .sel(time=slice(time_min,time_max))[\"ndvi\"]\\\n",
    "        .plot(label=\"Raw NDVI\", color=\"blue\")\n",
    "\n",
    "ds1_filtered_1.sel(lat=lat, lon=lon, \n",
    "                   method=\"nearest\"\n",
    "                   ).plot(color=\"red\", label=\"Smoothed NDVI\")"
   ]
  },
  {
   "cell_type": "code",
   "execution_count": null,
   "metadata": {},
   "outputs": [],
   "source": [
    "from vegetation.analysis.NDVI_indices import compute_ndvi\n",
    "\n",
    "ndvi_1 = compute_ndvi(res_xr[\"channel_1\"], res_xr[\"channel_2\"])"
   ]
  },
  {
   "cell_type": "code",
   "execution_count": null,
   "metadata": {},
   "outputs": [],
   "source": [
    "ndvi_1.sel(lat=lat, lon=lon, method=\"nearest\").plot()"
   ]
  },
  {
   "cell_type": "code",
   "execution_count": null,
   "metadata": {},
   "outputs": [],
   "source": [
    "res_xr.channel_1.sel(lat=lat, lon=lon, method=\"nearest\").plot()"
   ]
  },
  {
   "cell_type": "code",
   "execution_count": null,
   "metadata": {},
   "outputs": [],
   "source": [
    "res_xr.channel_2.sel(lat=lat, lon=lon, method=\"nearest\").plot()"
   ]
  },
  {
   "cell_type": "markdown",
   "metadata": {},
   "source": [
    "### Cloudmask cleaning"
   ]
  },
  {
   "cell_type": "code",
   "execution_count": null,
   "metadata": {},
   "outputs": [],
   "source": [
    "cloud_path = os.path.join(config['NDVI']['cloud_path'], 'nc_files/new/ndvi_mask.nc')\n",
    "cloud_mask = xr.open_dataarray(cloud_path)\n",
    "print(cloud_mask.rio.resolution())\n",
    "\n",
    "ndvi_raw = xr.open_dataset(os.path.join(config['NDVI']['ndvi_path'], 'ndvi_no_out.nc'))\n",
    "\n",
    "ndvi_raw[\"time\"]= ndvi_raw.indexes[\"time\"].normalize()\n",
    "ndvi_raw = ndvi_raw.drop_duplicates(dim=\"time\")\n",
    "\n",
    "cloud_mask[\"time\"]= cloud_mask.indexes[\"time\"].normalize()\n",
    "cloud_mask = cloud_mask.drop_duplicates(dim=\"time\")\n",
    "\n",
    "# Find the common time values between ds1 and ds2\n",
    "common_times = xr.align(cloud_mask, ndvi_raw)\n",
    "# Select only the common time values in ds1 and ds2\n",
    "cloud_mask = common_times[0]\n",
    "ndvi_raw = common_times[1]\n",
    "\n",
    "ndvi_ds = ndvi_raw[\"ndvi\"].to_dataset()\n",
    "ndvi_ds = ndvi_ds.assign(cloud_mask = cloud_mask)\n",
    "\n",
    "### calculate rolling cloud and % of cloud measures\n",
    "rolling_cloud = xr.where(cloud_mask==2,1,0)\\\n",
    "    .rolling(time=180).sum()\n",
    "\n",
    "cl_mk =xr.where(cloud_mask==2,1,0)\n",
    "cover_ptg = (cl_mk.sum([\"time\"])/cl_mk.count([\"time\"]))"
   ]
  },
  {
   "cell_type": "code",
   "execution_count": null,
   "metadata": {},
   "outputs": [],
   "source": [
    "cover_ptg.where(cover_ptg<0.6).plot()"
   ]
  },
  {
   "cell_type": "code",
   "execution_count": null,
   "metadata": {},
   "outputs": [],
   "source": [
    "cover_ptg.plot()"
   ]
  },
  {
   "cell_type": "code",
   "execution_count": null,
   "metadata": {},
   "outputs": [],
   "source": [
    "import xskillscore as xs\n",
    "corr_max_clean = xs.pearson_r(ds1_filtered_max.where(cover_ptg<0.6), \n",
    "                        ds_2_filtered_max.where(cover_ptg<0.6), dim=\"time\", skipna=True)\n",
    "\n",
    "rmse_max_clean = xs.rmse(ds1_filtered_max.where(cover_ptg<0.6), \n",
    "                        ds_2_filtered_max.where(cover_ptg<0.6), dim=\"time\", skipna=True)\n",
    "print(\"mean correlation is\", corr_max_clean.mean().values)"
   ]
  },
  {
   "cell_type": "code",
   "execution_count": null,
   "metadata": {},
   "outputs": [],
   "source": [
    "print(\"mean rmse is\", rmse_max_clean.mean().values)"
   ]
  },
  {
   "cell_type": "code",
   "execution_count": null,
   "metadata": {},
   "outputs": [],
   "source": [
    "rmse_max_clean.transpose(\"lat\", \"lon\").plot(vmax=0.4)"
   ]
  },
  {
   "cell_type": "code",
   "execution_count": null,
   "metadata": {},
   "outputs": [],
   "source": [
    "corr_max_clean.transpose(\"lat\", \"lon\").plot(vmin=0.4)"
   ]
  },
  {
   "cell_type": "code",
   "execution_count": null,
   "metadata": {},
   "outputs": [],
   "source": [
    "lon = 36\n",
    "lat = 7.5\n",
    "time_min = \"2015-01-01\"\n",
    "time_max = \"2016-01-01\"\n",
    "ndvi_raw.sel(lon=lon, lat = lat, method=\"nearest\").sel(time=slice(time_min, time_max)).channel_1.plot(color=\"red\")\n",
    "ds1_filtered_max.sel(lon=lon, lat =lat, method=\"nearest\").sel(time=slice(time_min, time_max)).plot(color=\"blue\")\n",
    "ndvi_raw.sel(lon=lon, lat = lat, method=\"nearest\").sel(time=slice(time_min, time_max)).channel_2.plot(color=\"yellow\")\n"
   ]
  },
  {
   "cell_type": "code",
   "execution_count": null,
   "metadata": {},
   "outputs": [],
   "source": [
    "lon = 37.5\n",
    "lat = 12.5\n",
    "time_min = \"2015-01-01\"\n",
    "time_max = \"2016-01-01\"\n",
    "ndvi_raw.sel(lon=lon, lat = lat, method=\"nearest\").sel(time=slice(time_min, time_max)).channel_1.plot(color=\"red\")\n",
    "ds1_filtered_max.sel(lon=lon, lat =lat, method=\"nearest\").sel(time=slice(time_min, time_max)).plot(color=\"green\")\n",
    "ndvi_raw.sel(lon=lon, lat = lat, method=\"nearest\").sel(time=slice(time_min, time_max)).channel_2.plot(color=\"yellow\")\n",
    "\n"
   ]
  },
  {
   "cell_type": "markdown",
   "metadata": {},
   "source": [
    "### Testing smoother"
   ]
  },
  {
   "cell_type": "code",
   "execution_count": null,
   "metadata": {},
   "outputs": [],
   "source": [
    "def hl_envelopes_idx(s, dmin=1, dmax=1, split=False):\n",
    "    \"\"\"\n",
    "    Input :\n",
    "    s: 1d-array, data signal from which to extract high and low envelopes\n",
    "    dmin, dmax: int, optional, size of chunks, use this if the size of the input signal is too big\n",
    "    split: bool, optional, if True, split the signal in half along its mean, might help to generate the envelope in some cases\n",
    "    Output :\n",
    "    lmin,lmax : high/low envelope idx of input signal s\n",
    "    \"\"\"\n",
    "    # locals min      \n",
    "    lmin = (np.diff(np.sign(np.diff(s))) > 0).nonzero()[0] + 1 \n",
    "    # locals max\n",
    "    lmax = (np.diff(np.sign(np.diff(s))) < 0).nonzero()[0] + 1 \n",
    "    if split:\n",
    "        # s_mid is zero if s centered around x-axis or more generally mean of signal\n",
    "        s_mid = np.mean(s) \n",
    "        # pre-sorting of locals min based on relative position with respect to s_mid \n",
    "        lmin = lmin[s[lmin][s_mid]]\n",
    "    # global max of dmax-chunks of locals max \n",
    "    lmin = lmin[[i+np.argmin(s[lmin[i:i+dmin]]) for i in range(0,len(lmin),dmin)]]\n",
    "    # global min of dmin-chunks of locals min \n",
    "    lmax = lmax[[i+np.argmax(s[lmax[i:i+dmax]]) for i in range(0,len(lmax),dmax)]]\n",
    "    \n",
    "    return lmin,lmax\n",
    "\n",
    "def interpolate_nan(array_like):\n",
    "    array = array_like.copy()\n",
    "\n",
    "    isnan_array = ~np.isnan(array)\n",
    "\n",
    "    xp = isnan_array.ravel().nonzero()[0]\n",
    "\n",
    "    fp = array[~np.isnan(array)]\n",
    "    x = np.isnan(array).ravel().nonzero()[0]\n",
    "\n",
    "    array[np.isnan(array)] = np.interp(x, xp, fp)\n",
    "\n",
    "    return array"
   ]
  },
  {
   "cell_type": "code",
   "execution_count": null,
   "metadata": {},
   "outputs": [],
   "source": [
    "def ED_SG(series, formatted_dates=None, plot=True):\n",
    "    from scipy.signal import savgol_filter\n",
    "    import matplotlib.dates as mdates\n",
    "\n",
    "    low_idx, high_idx = hl_envelopes_idx(series)\n",
    "    \n",
    "    # Create a boolean mask indicating which indices to nullify\n",
    "    mask = np.zeros_like(series, dtype=bool)\n",
    "    mask[high_idx] = True\n",
    "    \n",
    "    # Use np.where() to preserve values at certain indices\n",
    "    masked_arr = np.where(np.isin(np.arange(len(series)), high_idx), series, np.nan)\n",
    "    \n",
    "    new_arr = interpolate_nan(masked_arr)\n",
    "    \n",
    "    smoothed_array = savgol_filter(new_arr, 15, 3, axis=0)\n",
    "    \n",
    "    if plot is True:\n",
    "        # plot\n",
    "        # plt.plot(formatted_dates,y_corr,label='signal')\n",
    "        # plt.plot(formatted_dates[high_idx], y_corr[high_idx], 'r', label='low')\n",
    "        plt.plot(formatted_dates, new_arr , color= 'grey', label='high')\n",
    "        plt.plot(formatted_dates, smoothed_array, 'blue', label='ED-SG')\n",
    "    \n",
    "        # Define the date formatter and set the interval for major ticks\n",
    "        date_format = mdates.DateFormatter('%Y-%m')\n",
    "        plt.gca().xaxis.set_major_formatter(date_format)\n",
    "        plt.gca().xaxis.set_major_locator(mdates.DayLocator(interval=90))\n",
    "    \n",
    "        plt.xticks(rotation=45)  # Rotate x-axis labels for better readability\n",
    "        plt.legend()\n",
    "    \n",
    "        plt.show()\n",
    "\n",
    "    return smoothed_array"
   ]
  },
  {
   "cell_type": "code",
   "execution_count": null,
   "metadata": {},
   "outputs": [],
   "source": [
    "series = y \n",
    "\n",
    "low_idx, high_idx = hl_envelopes_idx(series)\n",
    "    \n",
    "# Create a boolean mask indicating which indices to nullify\n",
    "mask = np.zeros_like(series, dtype=bool)\n",
    "mask[high_idx] = True\n",
    "\n",
    "# Use np.where() to preserve values at certain indices\n",
    "masked_arr = np.where(np.isin(np.arange(len(series)), high_idx), series, np.nan)\n",
    "\n",
    "new_arr = interpolate_nan(masked_arr)\n",
    "\n",
    "smoothed_array = savgol_filter(new_arr, 15, 3, axis=0)"
   ]
  },
  {
   "cell_type": "code",
   "execution_count": null,
   "metadata": {},
   "outputs": [],
   "source": [
    "from modape.whittaker import ws2doptv, ws2d, ws2doptvp\n",
    "from array import array\n",
    "from datetime import datetime\n",
    "import matplotlib.dates as mdates\n",
    "from scipy.signal import savgol_filter, hilbert, chirp\n",
    "import numpy as np\n",
    "\n",
    "lon = 36.75\n",
    "lat = -0.1\n",
    "time_min = \"2015-01-01\"\n",
    "time_max = \"2020-01-01\"\n",
    "\n",
    "y_temp = ndvi_raw.where(cloud_mask!=2, np.NaN).ndvi\\\n",
    "    .sel(lon=lon, lat = lat, method=\"nearest\")\\\n",
    "    .sel(time=slice(time_min, time_max))\n",
    "\n",
    "y = y_temp.values.astype(np.float32)\n",
    "y_corr = np.where(np.isnan(y), 0, y) \n",
    "w = np.where(np.isnan(y), 0, 1)\n",
    "\n",
    "dates = pd.to_datetime(y_temp.time.values)\n",
    "formatted_dates = mdates.date2num(dates)\n",
    "\n",
    "p = 0.99 \n",
    "lambda_min=-2\n",
    "lambda_max = 4\n",
    "\n",
    "w_corr = w.astype(np.double)\n",
    "y_corr_db = y_corr.astype(np.double)\n",
    "\n",
    "z, sopt = ws2doptvp(y_corr_db, w_corr, \n",
    "                    array(\"d\", np.arange(lambda_min, lambda_max, 0.2).round(2)), \n",
    "                    p=p)\n",
    "z_arr =  np.array(z, dtype=np.float32)\n",
    "\n",
    "ch1 = ndvi_raw.channel_1.sel(lon=lon, lat = lat, method=\"nearest\")\\\n",
    "    .sel(time=slice(time_min, time_max))\n",
    "\n",
    "ch2 = ndvi_raw.channel_2.sel(lon=lon, lat = lat, method=\"nearest\")\\\n",
    "    .sel(time=slice(time_min, time_max))\n",
    "\n",
    "sg = ED_SG(y, plot=False)\n",
    "\n",
    "# Define the date formatter and set the interval for major ticks\n",
    "date_format = mdates.DateFormatter('%Y-%m')\n",
    "plt.gca().xaxis.set_major_formatter(date_format)\n",
    "plt.gca().xaxis.set_major_locator(mdates.DayLocator(interval=90))\n",
    "\n",
    "plt.plot(formatted_dates, z_arr, color = \"green\", alpha=0.7, label=\"WS\")\n",
    "plt.plot(formatted_dates, y, color = \"black\", alpha=1, label= \"NDVI\")\n",
    "plt.plot(formatted_dates, ch1, color=\"violet\", alpha=0.6 )\n",
    "plt.plot(formatted_dates, ch2, color=\"red\", alpha=0.3 )\n",
    "plt.plot(formatted_dates, sg, color = \"grey\", alpha=0.5, label=\"ED-SG\")\n",
    "\n",
    "plt.xticks(rotation=45)  # Rotate x-axis labels for better readability\n",
    "\n",
    "plt.legend()\n",
    "plt.show()"
   ]
  },
  {
   "cell_type": "code",
   "execution_count": null,
   "metadata": {},
   "outputs": [],
   "source": [
    "streaks = []\n",
    "current_streak = 0\n",
    "for day in y:\n",
    "    if np.isnan(day):\n",
    "        current_streak += 1\n",
    "    else:\n",
    "        if current_streak > 0:\n",
    "            streaks.append(current_streak)\n",
    "            current_streak = 0\n",
    "\n",
    "if current_streak > 0:\n",
    "    streaks.append(current_streak)\n",
    "\n",
    "# Step 2: Calculate length of each streak\n",
    "total_length = sum(streaks)\n",
    "num_streaks = len(streaks)\n",
    "\n",
    "# Step 3: Calculate average\n",
    "average_length = total_length / num_streaks\n",
    "print(\"Average length of consecutive days with clouds:\", round(average_length,1))\n",
    "print(\"Max number of consecutive days with clouds:\", max(streaks))\n",
    "print(\"Std of consecutive days with clouds:\", np.std(streaks))\n"
   ]
  },
  {
   "cell_type": "code",
   "execution_count": null,
   "metadata": {},
   "outputs": [],
   "source": [
    "import obspy\n",
    "import obspy.signal.filter\n",
    "import matplotlib.pyplot as plt\n",
    "from scipy.signal import savgol_filter, hilbert, chirp\n",
    "import numpy as np\n",
    "\n",
    "analytic_signal = hilbert(y)\n",
    "amplitude_envelope = np.abs(analytic_signal)\n",
    "\n",
    "data_envelope = obspy.signal.filter.envelope(y)\n",
    "smoothed_array = savgol_filter(data_envelope, 15, 3, axis=0)\n",
    "\n",
    "# plt.plot(data_envelope, color = \"blue\", alpha=0.4)\n",
    "plt.plot(y, color = \"grey\", alpha=0.3)\n",
    "#plt.plot(smoothed_array, color=\"blue\", alpha=0.5)\n",
    "plt.plot(z_arr, color = \"green\", alpha=0.5)"
   ]
  },
  {
   "cell_type": "code",
   "execution_count": null,
   "metadata": {},
   "outputs": [],
   "source": [
    "import os\n",
    "from pathlib import Path\n",
    "user = config[\"EARTHDATA\"][\"user\"]\n",
    "password = config[\"EARTHDATA\"][\"password\"]\n",
    "\n",
    "\n",
    "targetdir = Path(os.path.join(config[\"MODIS\"][\"download\"], \"MASK\"))\n",
    "\n",
    "if not os.path.exists(targetdir):\n",
    "    os.makedirs(targetdir)"
   ]
  },
  {
   "cell_type": "markdown",
   "metadata": {},
   "source": [
    "### Load MODIS NDVI"
   ]
  },
  {
   "cell_type": "code",
   "execution_count": 16,
   "metadata": {},
   "outputs": [],
   "source": [
    "from utils.xarray_functions import add_time_tiff\n",
    "import os\n",
    "import xarray as xr\n",
    "from utils.function_clns import subsetting_pipeline, prepare, config\n",
    "\n",
    "chunks = {\"time\":\"auto\", \"lat\":\"auto\", \"lon\":\"auto\"}\n",
    "\n",
    "base_path = \"/media/woden/DATI1/Riccardo\"\n",
    "\n",
    "def load_generate_modis(source_path:str, \n",
    "                        output_path:str, \n",
    "                        chunks:dict):\n",
    "    if os.path.isfile(output_path):\n",
    "        modis_ds = xr.open_zarr(output_path, chunks=chunks)\n",
    "    else:\n",
    "\n",
    "        files = [os.path.join(source_path, f) for f in os.listdir(source_path) if f.endswith(\".tif\")]\n",
    "        ds = xr.open_mfdataset(files,engine=\"rasterio\", \n",
    "                               parallel=True, \n",
    "                               preprocess=add_time_tiff,\n",
    "                               chunks=chunks)\n",
    "        ds = ds.isel(band=0)\n",
    "        ds = ds.rename({\"band_data\":\"ndvi\"})\n",
    "        modis_ds = ds.drop(\"band\")\n",
    "\n",
    "    from dask.diagnostics import ProgressBar\n",
    "    with ProgressBar():\n",
    "        modis_ds.to_zarr(output_path)\n",
    "\n",
    "    return modis_ds"
   ]
  },
  {
   "cell_type": "code",
   "execution_count": 21,
   "metadata": {},
   "outputs": [
    {
     "name": "stdout",
     "output_type": "stream",
     "text": [
      "[########################################] | 100% Completed | 3hr 18m\n"
     ]
    }
   ],
   "source": [
    "modis_path = os.path.join(base_path, \"MOD09GA_ndvi.zarr\")\n",
    "modis_files_path = config[\"MODIS\"][\"NDVI_06\"][\"output_dir\"]\n",
    "\n",
    "modis_ds = load_generate_modis(modis_files_path, \n",
    "                               modis_path, \n",
    "                               chunks=chunks)"
   ]
  },
  {
   "cell_type": "markdown",
   "metadata": {},
   "source": [
    "### Create SEVIRI composite"
   ]
  },
  {
   "cell_type": "code",
   "execution_count": 2,
   "metadata": {},
   "outputs": [
    {
     "name": "stderr",
     "output_type": "stream",
     "text": [
      "/home/woden/anaconda3/envs/ric_gis_py39/lib/python3.9/abc.py:85: FutureWarning: xarray subclass XarrayWS should explicitly define __slots__\n",
      "  cls = super().__new__(mcls, name, bases, namespace, **kwargs)\n"
     ]
    }
   ],
   "source": [
    "import os\n",
    "import xarray as xr\n",
    "from utils.xarray_functions import add_time, compute_radiance\n",
    "from vegetation.analysis.indices import compute_ndvi\n",
    "from utils.function_clns import subsetting_pipeline\n",
    "from utils.function_clns import config\n",
    "import logging\n",
    "from dask.diagnostics import ProgressBar\n",
    "import pyproj\n",
    "from vegetation.preprocessing.ndvi_prep import apply_seviri_cloudmask, remove_ndvi_outliers, NDVIPreprocess\n",
    "\n",
    "chunks = {\"time\":\"auto\", \"lat\":\"auto\", \"lon\":\"auto\"}"
   ]
  },
  {
   "cell_type": "code",
   "execution_count": 64,
   "metadata": {},
   "outputs": [],
   "source": [
    "cloud_dir = config[\"NDVI\"][\"cloud_path\"]\n",
    "hour_folder = \"12_15\"\n",
    "cloud_path = os.path.join(cloud_dir, hour_folder)\n",
    "files = [f for f in os.listdir(cloud_path) if f.endswith(\".nc\")]\n",
    "file_list = [os.path.join(cloud_path, f) for f in os.listdir(cloud_path) if f.endswith(\".nc\")]"
   ]
  },
  {
   "cell_type": "code",
   "execution_count": 65,
   "metadata": {},
   "outputs": [],
   "source": [
    "from datetime import datetime\n",
    "dates = [datetime.strptime(file.split('_')[1], '%Y%m%dT%H%M%SZ').strftime('%Y-%m-%d') for file in files]"
   ]
  },
  {
   "cell_type": "code",
   "execution_count": 66,
   "metadata": {},
   "outputs": [
    {
     "name": "stdout",
     "output_type": "stream",
     "text": [
      "Repeated dates found:\n",
      "2005-04-01: 2 occurrences\n",
      "2005-05-02: 2 occurrences\n",
      "2005-09-01: 2 occurrences\n",
      "2006-04-23: 2 occurrences\n",
      "2006-06-22: 2 occurrences\n",
      "2006-08-09: 2 occurrences\n",
      "2007-03-14: 2 occurrences\n",
      "2007-06-14: 2 occurrences\n",
      "2009-06-05: 2 occurrences\n",
      "2011-02-28: 2 occurrences\n",
      "2011-07-14: 2 occurrences\n",
      "2011-09-15: 2 occurrences\n",
      "2012-02-28: 2 occurrences\n",
      "2012-02-29: 2 occurrences\n",
      "2012-03-01: 2 occurrences\n",
      "2012-04-05: 2 occurrences\n",
      "2013-03-02: 2 occurrences\n",
      "2013-09-11: 2 occurrences\n",
      "2014-03-02: 2 occurrences\n",
      "2014-03-03: 2 occurrences\n",
      "2014-03-04: 2 occurrences\n",
      "2014-04-30: 2 occurrences\n",
      "2015-01-05: 2 occurrences\n",
      "2015-03-01: 2 occurrences\n",
      "2015-03-02: 2 occurrences\n",
      "2015-03-03: 2 occurrences\n",
      "2015-10-18: 2 occurrences\n",
      "2016-02-27: 2 occurrences\n",
      "2016-02-28: 2 occurrences\n",
      "2016-02-29: 2 occurrences\n",
      "2016-07-08: 2 occurrences\n",
      "2017-08-06: 2 occurrences\n",
      "2017-10-24: 2 occurrences\n",
      "2018-01-01: 2 occurrences\n",
      "2018-11-23: 2 occurrences\n",
      "2019-01-29: 2 occurrences\n",
      "2019-07-28: 2 occurrences\n",
      "2020-03-04: 2 occurrences\n",
      "2020-11-12: 2 occurrences\n",
      "2021-06-10: 2 occurrences\n",
      "2021-06-23: 2 occurrences\n",
      "2021-09-28: 2 occurrences\n",
      "2021-10-08: 2 occurrences\n",
      "2023-11-21: 2 occurrences\n"
     ]
    }
   ],
   "source": [
    "from collections import Counter\n",
    "\n",
    "# Assuming 'dates' is the list of dates obtained from the previous step\n",
    "date_counts = Counter(dates)\n",
    "\n",
    "repeated_dates = {date: count for date, count in date_counts.items() if count > 1}\n",
    "\n",
    "if repeated_dates:\n",
    "    print(\"Repeated dates found:\")\n",
    "    for date, count in repeated_dates.items():\n",
    "        print(f\"{date}: {count} occurrences\")\n",
    "else:\n",
    "    print(\"No repeated dates found.\")"
   ]
  },
  {
   "cell_type": "code",
   "execution_count": 67,
   "metadata": {},
   "outputs": [
    {
     "name": "stdout",
     "output_type": "stream",
     "text": [
      "Removing file: /media/BIFROST/N2/Riccardo/MSG/cloudmask/processed_clouds/12_15/MSGCLMK_20050401T121500Z_20050401T121500Z_epct_3a46f491_FPC.nc\n",
      "Removing file: /media/BIFROST/N2/Riccardo/MSG/cloudmask/processed_clouds/12_15/MSGCLMK_20050502T121500Z_20050502T121500Z_epct_4d31d84c_FPC.nc\n",
      "Removing file: /media/BIFROST/N2/Riccardo/MSG/cloudmask/processed_clouds/12_15/MSGCLMK_20050901T121500Z_20050901T121500Z_epct_5461f198_FPC.nc\n",
      "Removing file: /media/BIFROST/N2/Riccardo/MSG/cloudmask/processed_clouds/12_15/MSGCLMK_20060423T121500Z_20060423T121500Z_epct_e33a6aa1_FPC.nc\n",
      "Removing file: /media/BIFROST/N2/Riccardo/MSG/cloudmask/processed_clouds/12_15/MSGCLMK_20060622T121500Z_20060622T121500Z_epct_56e92146_FPC.nc\n",
      "Removing file: /media/BIFROST/N2/Riccardo/MSG/cloudmask/processed_clouds/12_15/MSGCLMK_20060809T121500Z_20060809T121500Z_epct_58de997b_FPC.nc\n",
      "Removing file: /media/BIFROST/N2/Riccardo/MSG/cloudmask/processed_clouds/12_15/MSGCLMK_20070314T121500Z_20070314T121500Z_epct_2226ad0a_FPC.nc\n",
      "Removing file: /media/BIFROST/N2/Riccardo/MSG/cloudmask/processed_clouds/12_15/MSGCLMK_20070614T121500Z_20070614T121500Z_epct_0698c5cd_FPC.nc\n",
      "Removing file: /media/BIFROST/N2/Riccardo/MSG/cloudmask/processed_clouds/12_15/MSGCLMK_20090605T121500Z_20090605T121500Z_epct_420798cc_FPC.nc\n",
      "Removing file: /media/BIFROST/N2/Riccardo/MSG/cloudmask/processed_clouds/12_15/MSGCLMK_20110228T120000Z_20110228T120000Z_epct_9bd03ddf_FPC.nc\n",
      "Removing file: /media/BIFROST/N2/Riccardo/MSG/cloudmask/processed_clouds/12_15/MSGCLMK_20110714T121500Z_20110714T121500Z_epct_0d6fe857_FPC.nc\n",
      "Removing file: /media/BIFROST/N2/Riccardo/MSG/cloudmask/processed_clouds/12_15/MSGCLMK_20110915T121500Z_20110915T121500Z_epct_a66167fc_FPC.nc\n",
      "Removing file: /media/BIFROST/N2/Riccardo/MSG/cloudmask/processed_clouds/12_15/MSGCLMK_20120228T121500Z_20120228T121500Z_epct_bf2fe261_FPC.nc\n",
      "Removing file: /media/BIFROST/N2/Riccardo/MSG/cloudmask/processed_clouds/12_15/MSGCLMK_20120229T121500Z_20120229T121500Z_epct_81a84165_FPC.nc\n",
      "Removing file: /media/BIFROST/N2/Riccardo/MSG/cloudmask/processed_clouds/12_15/MSGCLMK_20120301T121500Z_20120301T121500Z_epct_4c9cf7a9_FPC.nc\n",
      "Removing file: /media/BIFROST/N2/Riccardo/MSG/cloudmask/processed_clouds/12_15/MSGCLMK_20120405T121500Z_20120405T121500Z_epct_13ff252f_FPC.nc\n",
      "Removing file: /media/BIFROST/N2/Riccardo/MSG/cloudmask/processed_clouds/12_15/MSGCLMK_20130302T121500Z_20130302T121500Z_epct_98b85ff9_FPC.nc\n",
      "Removing file: /media/BIFROST/N2/Riccardo/MSG/cloudmask/processed_clouds/12_15/MSGCLMK_20130911T121500Z_20130911T121500Z_epct_3ad186f2_FPC.nc\n",
      "Removing file: /media/BIFROST/N2/Riccardo/MSG/cloudmask/processed_clouds/12_15/MSGCLMK_20140302T120000Z_20140302T120000Z_epct_e12d98cf_FPC.nc\n",
      "Removing file: /media/BIFROST/N2/Riccardo/MSG/cloudmask/processed_clouds/12_15/MSGCLMK_20140303T120000Z_20140303T120000Z_epct_3cb11f4f_FPC.nc\n",
      "Removing file: /media/BIFROST/N2/Riccardo/MSG/cloudmask/processed_clouds/12_15/MSGCLMK_20140304T121500Z_20140304T121500Z_epct_c02b4601_FPC.nc\n",
      "Removing file: /media/BIFROST/N2/Riccardo/MSG/cloudmask/processed_clouds/12_15/MSGCLMK_20140430T121500Z_20140430T121500Z_epct_793b450d_FPC.nc\n",
      "Removing file: /media/BIFROST/N2/Riccardo/MSG/cloudmask/processed_clouds/12_15/MSGCLMK_20150105T121500Z_20150105T121500Z_epct_91f49276_FPC.nc\n",
      "Removing file: /media/BIFROST/N2/Riccardo/MSG/cloudmask/processed_clouds/12_15/MSGCLMK_20150301T121500Z_20150301T121500Z_epct_00503920_FPC.nc\n",
      "Removing file: /media/BIFROST/N2/Riccardo/MSG/cloudmask/processed_clouds/12_15/MSGCLMK_20150302T121500Z_20150302T121500Z_epct_069af153_FPC.nc\n",
      "Removing file: /media/BIFROST/N2/Riccardo/MSG/cloudmask/processed_clouds/12_15/MSGCLMK_20150303T121500Z_20150303T121500Z_epct_215c098d_FPC.nc\n",
      "Removing file: /media/BIFROST/N2/Riccardo/MSG/cloudmask/processed_clouds/12_15/MSGCLMK_20151018T121500Z_20151018T121500Z_epct_3e1a052e_FPC.nc\n",
      "Removing file: /media/BIFROST/N2/Riccardo/MSG/cloudmask/processed_clouds/12_15/MSGCLMK_20160227T121500Z_20160227T121500Z_epct_0a7fb45e_FPC.nc\n",
      "Removing file: /media/BIFROST/N2/Riccardo/MSG/cloudmask/processed_clouds/12_15/MSGCLMK_20160228T121500Z_20160228T121500Z_epct_2a7f4bf2_FPC.nc\n",
      "Removing file: /media/BIFROST/N2/Riccardo/MSG/cloudmask/processed_clouds/12_15/MSGCLMK_20160229T121500Z_20160229T121500Z_epct_344408f4_FPC.nc\n",
      "Removing file: /media/BIFROST/N2/Riccardo/MSG/cloudmask/processed_clouds/12_15/MSGCLMK_20160708T121500Z_20160708T121500Z_epct_15cec909_FPC.nc\n",
      "Removing file: /media/BIFROST/N2/Riccardo/MSG/cloudmask/processed_clouds/12_15/MSGCLMK_20170806T121500Z_20170806T121500Z_epct_2162dd3a_FPC.nc\n",
      "Removing file: /media/BIFROST/N2/Riccardo/MSG/cloudmask/processed_clouds/12_15/MSGCLMK_20171024T121500Z_20171024T121500Z_epct_83e3df4c_FPC.nc\n",
      "Removing file: /media/BIFROST/N2/Riccardo/MSG/cloudmask/processed_clouds/12_15/MSGCLMK_20180101T121500Z_20180101T121500Z_epct_2667f076_FPC.nc\n",
      "Removing file: /media/BIFROST/N2/Riccardo/MSG/cloudmask/processed_clouds/12_15/MSGCLMK_20181123T121500Z_20181123T121500Z_epct_5b0da5fb_FPC.nc\n",
      "Removing file: /media/BIFROST/N2/Riccardo/MSG/cloudmask/processed_clouds/12_15/MSGCLMK_20190129T120000Z_20190129T120000Z_epct_95a4dd35_FPC.nc\n",
      "Removing file: /media/BIFROST/N2/Riccardo/MSG/cloudmask/processed_clouds/12_15/MSGCLMK_20190728T121500Z_20190728T121500Z_epct_431e2197_FPC.nc\n",
      "Removing file: /media/BIFROST/N2/Riccardo/MSG/cloudmask/processed_clouds/12_15/MSGCLMK_20200304T121500Z_20200304T121500Z_epct_dc3874b1_FPC.nc\n",
      "Removing file: /media/BIFROST/N2/Riccardo/MSG/cloudmask/processed_clouds/12_15/MSGCLMK_20201112T121500Z_20201112T121500Z_epct_afd49929_FPC.nc\n",
      "Removing file: /media/BIFROST/N2/Riccardo/MSG/cloudmask/processed_clouds/12_15/MSGCLMK_20210610T121500Z_20210610T121500Z_epct_916c98bb_FPC.nc\n",
      "Removing file: /media/BIFROST/N2/Riccardo/MSG/cloudmask/processed_clouds/12_15/MSGCLMK_20210623T121500Z_20210623T121500Z_epct_955ce549_FPC.nc\n",
      "Removing file: /media/BIFROST/N2/Riccardo/MSG/cloudmask/processed_clouds/12_15/MSGCLMK_20210928T121500Z_20210928T121500Z_epct_72aebb02_FPC.nc\n",
      "Removing file: /media/BIFROST/N2/Riccardo/MSG/cloudmask/processed_clouds/12_15/MSGCLMK_20211008T121500Z_20211008T121500Z_epct_598eab66_FPC.nc\n",
      "Removing file: /media/BIFROST/N2/Riccardo/MSG/cloudmask/processed_clouds/12_15/MSGCLMK_20231121T121500Z_20231121T121500Z_epct_69ae7889_FPC.nc\n"
     ]
    }
   ],
   "source": [
    "# Iterate over the repeated dates\n",
    "for date, count in repeated_dates.items():\n",
    "    # Find indices of files with the repeated date\n",
    "    indices = [i for i, d in enumerate(dates) if d == date]\n",
    "    # Sort indices based on the file creation time, assuming files are named in chronological order\n",
    "    indices.sort(key=lambda i: os.path.getctime(file_list[i]))\n",
    "    # Remove the older files\n",
    "    for i in indices[:-1]:\n",
    "        print(f\"Removing file: {file_list[i]}\")\n",
    "        os.remove(file_list[i])"
   ]
  },
  {
   "cell_type": "code",
   "execution_count": 1,
   "metadata": {},
   "outputs": [
    {
     "name": "stderr",
     "output_type": "stream",
     "text": [
      "/home/woden/anaconda3/envs/ric_gis_py39/lib/python3.9/abc.py:85: FutureWarning: xarray subclass XarrayWS should explicitly define __slots__\n",
      "  cls = super().__new__(mcls, name, bases, namespace, **kwargs)\n",
      "INFO:root:Processing SEVIRI data for hour 12_15\n",
      "/home/woden/anaconda3/envs/ric_gis_py39/lib/python3.9/site-packages/gribapi/__init__.py:23: UserWarning: ecCodes 2.31.0 or higher is recommended. You are running version 2.16.0\n",
      "  warnings.warn(\n",
      "INFO:root:Applying cloudmask for hour 12_15\n",
      "INFO:root:Processing SEVIRI data for hour 09_15\n",
      "INFO:root:Applying cloudmask for hour 09_15\n",
      "INFO:root:Processing SEVIRI data for hour 10_30\n",
      "INFO:root:Applying cloudmask for hour 10_30\n"
     ]
    }
   ],
   "source": []
  },
  {
   "cell_type": "code",
   "execution_count": 54,
   "metadata": {},
   "outputs": [
    {
     "name": "stderr",
     "output_type": "stream",
     "text": [
      "/tmp/ipykernel_1612046/326852326.py:19: DeprecationWarning: parsing timezone aware datetimes is deprecated; this will raise an error in the future\n",
      "  return datetime.utcfromtimestamp((t - np.datetime64(\"1970-01-01T00:00:00Z\")) / np.timedelta64(1, \"s\"))\n"
     ]
    }
   ],
   "source": [
    "from utils.xarray_functions import _extract_dates, _output_dates\n",
    "import numpy as np\n",
    "import pandas as pd\n",
    "dates = _extract_dates(datasets[0])\n",
    "expected_dates = _output_dates(\"P1D\", dates[0],dates[-1])\n",
    "missing_dates = [f for f in expected_dates if f not in dates]"
   ]
  },
  {
   "cell_type": "code",
   "execution_count": null,
   "metadata": {},
   "outputs": [],
   "source": [
    "with ProgressBar():\n",
    "    ds_final.to_zarr(os.path.join(base_path, \"seviri_daily_composite.zarr\"))"
   ]
  },
  {
   "cell_type": "code",
   "execution_count": null,
   "metadata": {},
   "outputs": [],
   "source": [
    "from vegetation.data_collection.seviri import datatailor_loop\n",
    "from tqdm.auto import tqdm\n",
    "\n",
    "product_code = config['SEVIRI']['cloud']\n",
    "folder = \"12_15\"\n",
    "\n",
    "for d in tqdm(missing_dates):\n",
    "    start_date = f\"{d.year}-{d.month}-{d.day} 11:55:00\"\n",
    "    datatailor_loop(product_code, start_date=start_date, end_date=start_date, destfoldername=folder)"
   ]
  },
  {
   "cell_type": "code",
   "execution_count": null,
   "metadata": {},
   "outputs": [],
   "source": [
    "list_files = []\n",
    "for f in files:\n",
    "    d = xr.open_dataset(f)\n",
    "    if len(d.lat)!=644:\n",
    "        print(\"File {} is different\".format(f.split(\"/\")[-1]))\n",
    "        list_files.append(f)"
   ]
  },
  {
   "cell_type": "code",
   "execution_count": 12,
   "metadata": {},
   "outputs": [],
   "source": [
    "import pandas as pd\n",
    "name = \"MSG1-SEVI-MSGCLMK-0100-0100-20050101121500.000000000Z-NA.grb\"\n",
    "\n",
    "def extract_time(name):\n",
    "    name.split(\"/\")[-1]\n",
    "\n",
    "    # Define the regex pattern to match the date and time\n",
    "    pattern = r'(\\d{4}\\d{2}\\d{2})(\\d{2}\\d{2}\\d{2})'\n",
    "\n",
    "    # Use re.search() to find the pattern in the string\n",
    "    match = re.search(pattern, name)\n",
    "\n",
    "    if match:\n",
    "        start_date = match.group(1)\n",
    "        print(start_date)\n",
    "        start_time = match.group(2)\n",
    "        start_datetime = pd.to_datetime(start_date + start_time, format='%Y%m%d%H%M%S')\n",
    "        return start_datetime\n",
    "    else:\n",
    "        print(\"No match found.\")\n",
    "        return None"
   ]
  },
  {
   "cell_type": "code",
   "execution_count": null,
   "metadata": {},
   "outputs": [],
   "source": [
    "filename = \"ndvi_full_image.zarr\"\n",
    "\n",
    "baseline_path = config[\"DEFAULT\"][\"local\"] #config[\"NDVI\"][\"ndvi_path\"]\n",
    "os.environ['PROJ_LIB'] = pyproj.datadir.get_data_dir()\n",
    "\n",
    "ds_915 = xr.open_zarr(os.path.join(config[\"NDVI\"][\"ndvi_path\"], filename), \n",
    "                        chunks=chunks)\n",
    "\n",
    "def _preprocess(ds):\n",
    "    from utils.xarray_functions import add_time\n",
    "    ds = add_time(ds)\n",
    "    return ds\n",
    "\n",
    "cloud_path = os.path.join(config[\"NDVI\"][\"cloud_path\"], \"09_15\")\n",
    "files = [os.path.join(cloud_path, file) for file in os.listdir(cloud_path) if file.endswith(\".nc\")]\n",
    "with ProgressBar():\n",
    "    cl_915 = xr.open_mfdataset(files, \n",
    "                        preprocess=_preprocess, \n",
    "                        engine='netcdf4', \n",
    "                        parallel=False, chunks=chunks)\n",
    "\n",
    "logging.info(\"Loaded cloudmask\")\n",
    "ds_915 = apply_seviri_cloudmask(ds_915, cl_915)\n",
    "logging.info(\"Applied cloudmask\")\n",
    "ds_915[\"ndvi\"] = remove_ndvi_outliers(ds_915[\"ndvi\"])\n",
    "ds_915 = NDVIPreprocess(ds_915[\"ndvi\"]).get_processed_data()\n",
    "\n",
    "path = \"/media/BIFROST/N2/Riccardo/MSG/msg_data/12_30/batch_2/processed/new_process\"\n",
    "files = [os.path.join(path, f) for f in os.listdir(path) if f.endswith(\".nc\")]\n",
    "ds_12 = xr.open_mfdataset(files, chunks=chunks, parallel=False)\n",
    "\n",
    "batch3_path = \"/media/BIFROST/N2/Riccardo/MSG/msg_data/12_30/batch_3/*.nc\"\n",
    "\n",
    "def preprocess(ds):\n",
    "    ds = add_time(ds)\n",
    "    ds = compute_radiance(ds)\n",
    "    return ds \n",
    "\n",
    "ds_new = xr.open_mfdataset(batch3_path, preprocess =preprocess, parallel=True, chunks=chunks)\n",
    "ds_new = compute_ndvi(band2=ds_new[\"channel_2\"],band1=ds_new[\"channel_1\"])\n",
    "ds_new = subsetting_pipeline(ds_new)\n",
    "ds_1230 = xr.concat([ds_12[\"ndvi\"], ds_new], dim=\"time\")\n",
    "\n",
    "### load and prepare cloudmask\n",
    "base_dir = 'batch_2/nc_files/new/ndvi_mask.nc'\n",
    "cl_df = xr.open_dataset(os.path.join(config['NDVI']['cloud_path'], base_dir), chunks=chunks)\n",
    "cl_df = cl_df.sel(time=slice(cl_df['time'].min(), '2021-01-01'))\n",
    "\n",
    "ds_1230 = apply_seviri_cloudmask(ds_1230, cl_df)\n",
    "ds_1230 = remove_ndvi_outliers(ds_1230)\n",
    "ds_1230 = NDVIPreprocess(ds_1230).get_processed_data()"
   ]
  },
  {
   "cell_type": "code",
   "execution_count": null,
   "metadata": {},
   "outputs": [],
   "source": [
    "import xarray_beam as xbeam \n",
    "import xarray\n",
    "from dataclasses import dataclass\n",
    "import apache_beam as beam\n",
    "from pangeo_forge_recipes.transforms import (\n",
    "    OpenURLWithFSSpec, OpenWithXarray, StoreToZarr, Indexed, T\n",
    ")\n",
    "\n",
    "all_days = pd.date_range('2013-01-01', '2014-01-01', freq='1D')\n",
    "\n",
    "def load_one_example(time: pd.Timestamp) -> tuple[xbeam.Key, xarray.Dataset]:\n",
    "    key = xbeam.Key({'time': (time - all_days[0]).days})\n",
    "    dataset = ds.sel(time=[time])  # replace with your code to create one example\n",
    "    return key, dataset\n",
    "\n",
    "_, example = load_one_example(all_days[0])\n",
    "template = xbeam.make_template(example).squeeze('time', drop=True).expand_dims(time=all_days)\n",
    "zarr_chunks = {'time': 100}  # desired chunking along \"time\", e.g., for more efficient storage in Zarr\n",
    "\n",
    "\n",
    "\n",
    "@dataclass\n",
    "class Preprocessor(beam.PTransform):\n",
    "    \"\"\"\n",
    "    Preprocessor for xarray datasets.\n",
    "    Set all data_variables except for `variable_id` attrs to coord\n",
    "    Add additional information \n",
    "\n",
    "    \"\"\"\n",
    "\n",
    "    @staticmethod\n",
    "    def _keep_only_variable_id(item: Indexed[T]) -> Indexed[T]:\n",
    "        \"\"\"\n",
    "        Many netcdfs contain variables other than the one specified in the `variable_id` facet. \n",
    "        Set them all to coords\n",
    "        \"\"\"\n",
    "        index, ds = item\n",
    "        print(f\"Preprocessing before {ds =}\")\n",
    "        new_coords_vars = [var for var in ds.data_vars if var != ds.attrs['variable_id']]\n",
    "        ds = ds.set_coords(new_coords_vars)\n",
    "        print(f\"Preprocessing after {ds =}\")\n",
    "        return index, ds\n",
    "    \n",
    "    @staticmethod\n",
    "    def _sanitize_attrs(item: Indexed[T]) -> Indexed[T]:\n",
    "        \"\"\"Removes non-ascii characters from attributes see https://github.com/pangeo-forge/pangeo-forge-recipes/issues/586\"\"\"\n",
    "        index, ds = item\n",
    "        for att, att_value in ds.attrs.items():\n",
    "            if isinstance(att_value, str):\n",
    "                new_value=att_value.encode(\"utf-8\", 'ignore').decode()\n",
    "                if new_value != att_value:\n",
    "                    print(f\"Sanitized datasets attributes field {att}: \\n {att_value} \\n ----> \\n {new_value}\")\n",
    "                    ds.attrs[att] = new_value\n",
    "        return index, ds\n",
    "  \n",
    "    def expand(self, pcoll: beam.PCollection) -> beam.PCollection:\n",
    "        return ( pcoll \n",
    "            | \"Fix coordinates\" >> beam.Map(self._keep_only_variable_id)\n",
    "            | \"Sanitize Attrs\" >> beam.Map(self._sanitize_attrs)\n",
    "        )\n",
    "\n",
    "with beam.Pipeline() as p:\n",
    "    (\n",
    "        p\n",
    "        | beam.Create(all_days)\n",
    "        | beam.Map(load_one_example)\n",
    "        | xbeam.ConsolidateChunks(zarr_chunks)\n",
    "        | xbeam.ChunksToZarr('example-data-v4.zarr', template, zarr_chunks)\n",
    "    )"
   ]
  }
 ],
 "metadata": {
  "kernelspec": {
   "display_name": "ric_gis2_py39",
   "language": "python",
   "name": "python3"
  },
  "language_info": {
   "codemirror_mode": {
    "name": "ipython",
    "version": 3
   },
   "file_extension": ".py",
   "mimetype": "text/x-python",
   "name": "python",
   "nbconvert_exporter": "python",
   "pygments_lexer": "ipython3",
   "version": "3.9.2"
  }
 },
 "nbformat": 4,
 "nbformat_minor": 2
}
