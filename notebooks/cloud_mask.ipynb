{
 "cells": [
  {
   "cell_type": "code",
   "execution_count": 1,
   "metadata": {},
   "outputs": [],
   "source": [
    "from p_drought_indices.functions.function_clns import load_config, cut_file, subsetting_pipeline\n",
    "from p_drought_indices.functions.ndvi_functions import downsample, clean_ndvi, compute_ndvi\n",
    "from p_drought_indices.vegetation.cloudmask_cleaning import extract_apply_cloudmask, plot_cloud_correction, compute_difference, compute_correlation\n",
    "import xarray as xr \n",
    "import pandas as pd\n",
    "import yaml\n",
    "from datetime import datetime, timedelta\n",
    "import shutil\n",
    "from shapely.geometry import Polygon, mapping\n",
    "import geopandas as gpd\n",
    "import matplotlib.pyplot as plt\n",
    "from glob import glob\n",
    "import os\n",
    "#import datetime as datetime\n",
    "import time\n",
    "import numpy as np\n",
    "import re\n",
    "from p_drought_indices.vegetation.NDVI_indices import compute_svi, compute_vci\n",
    "from p_drought_indices.analysis.metrics_table import MetricTable\n",
    "\n",
    "CONFIG_PATH = r\"../config.yaml\"\n"
   ]
  },
  {
   "cell_type": "code",
   "execution_count": 2,
   "metadata": {},
   "outputs": [],
   "source": [
    "CONFIG_PATH = r\"../config.yaml\"\n",
    "config = load_config(CONFIG_PATH)\n",
    "product_directory =  r\"D:\\shareVM\\MSG\\msg_data\\processed\"\n",
    "product_dir = config['SPI']['IMERG']['path']\n",
    "var = 'vci'\n",
    "var_target = 'spi_gamma_180'\n",
    "countries = ['Kenya'] #'Ethiopia','Somalia'\n",
    "\n",
    "spi = MetricTable(product_directory, product_dir, var, var_target, CONFIG_PATH)"
   ]
  },
  {
   "cell_type": "code",
   "execution_count": null,
   "metadata": {},
   "outputs": [],
   "source": [
    "for cntr in ['Ethiopia','Somalia','Kenya']:\n",
    "    for product_dir in [config['SPI']['IMERG']['path'], config['SPI']['GPCC']['path'], config['SPI']['CHIRPS']['path']], config['SPI']['ERA5']['path']:\n",
    "        for late in [30, 60, 90, 180]:\n",
    "            var_target = f\"spi_gamma_{late}\"\n",
    "            spi = MetricTable(product_directory, product_dir, var, var_target, CONFIG_PATH)\n",
    "            spi.compute_metrics_soil()"
   ]
  },
  {
   "cell_type": "markdown",
   "metadata": {},
   "source": [
    "### Processing and smoothing NDVI"
   ]
  },
  {
   "cell_type": "code",
   "execution_count": 2,
   "metadata": {},
   "outputs": [],
   "source": [
    "path = r'D:\\shareVM\\MSG\\AVHRR\\processed\\*.nc'\n",
    "chunks = {\"lat\": -1, \"lon\": -1, \"time\": 12}\n",
    "\n",
    "data = xr.open_mfdataset(path, chunks=chunks)\n",
    "data = data.rename({'longitude':'lon', 'latitude':'lat'})\n",
    "\n",
    "ndvi_dir = r'D:\\shareVM\\MSG\\msg_data\\batch_2\\processed'\n",
    "list_files = [os.path.join(ndvi_dir,file) for file in os.listdir(ndvi_dir) if re.match('HRSEVIRI_201\\d+.*', file)]\n",
    "xr_df = xr.open_mfdataset(list_files, chunks=chunks)\n",
    "\n",
    "CONFIG_PATH = r\"../config.yaml\"\n",
    "\n",
    "config = load_config(CONFIG_PATH)\n",
    "shapefile_path = config['SHAPE']['africa']\n",
    "gdf = gpd.read_file(shapefile_path)\n",
    "\n",
    "countries = ['Ethiopia','Kenya','Somalia']\n",
    "\n",
    "subset = gdf[gdf.ADM0_NAME.isin(countries)]\n",
    "ds_avh = cut_file(data, subset)\n",
    "\n",
    "base_dir = r'D:\\shareVM\\MSG\\cloudmask\\processed_clouds\\batch_2\\nc_files\\new\\ndvi_mask.nc'\n",
    "chunks = {\"lat\": -1, \"lon\": -1, \"time\": 12}\n",
    "cl_df = xr.open_mfdataset(base_dir, chunks=chunks)\n",
    "cl_df = cl_df.sel(time=slice(cl_df['time'].min(), '2009-12-31'))\n",
    "\n",
    "ds = cut_file(xr_df, subset)\n",
    "ds_cl = cut_file(cl_df, subset)\n",
    "mask_clouds_p, res_xr_p,  mask_clouds, res_xr = extract_apply_cloudmask(ds, ds_cl)"
   ]
  },
  {
   "cell_type": "code",
   "execution_count": 14,
   "metadata": {},
   "outputs": [],
   "source": [
    "from fusets import WhittakerTransformer\n",
    "result = WhittakerTransformer().fit_transform(mask_clouds['ndvi'].load(),smoothing_lambda=1,time_dimension=\"time\", prediction_period=\"P1D\")"
   ]
  },
  {
   "cell_type": "code",
   "execution_count": 16,
   "metadata": {},
   "outputs": [],
   "source": [
    "from fusets._xarray_utils import _extract_dates, _output_dates, _topydate\n",
    "\n",
    "dates = _extract_dates(xr_df['ndvi'])\n",
    "expected_dates = _output_dates('P1D',dates[0],dates[-1])\n",
    "\n",
    "xr_df['time'] = xr_df.indexes['time'].normalize()\n",
    "xr_df = xr_df.assign_coords(time = xr_df.indexes['time'].normalize())\n",
    "\n",
    "result['time'] = [np.datetime64(i) for i in expected_dates]"
   ]
  },
  {
   "cell_type": "code",
   "execution_count": 23,
   "metadata": {},
   "outputs": [],
   "source": [
    "result.to_netcdf(r'D:\\shareVM\\MSG\\msg_data\\processed\\smoothed_ndvi.nc')\n",
    "veg_df = xr.open_dataset(r'D:\\shareVM\\MSG\\msg_data\\processed\\smoothed_ndvi.nc')"
   ]
  },
  {
   "cell_type": "code",
   "execution_count": null,
   "metadata": {},
   "outputs": [],
   "source": [
    "for date in pd.date_range(start='2005-04-16',end='2005-10-14', freq='1D'):\n",
    "    date_new = date.strftime(\"%Y-%m-%d\")\n",
    "    ds_avh.sel(time=date_new, method='nearest')['NDVI'].plot()\n",
    "    plt.show()\n",
    "    print('NDVI for AVHRR for day {}'.format(date))\n",
    "    cl_df.sel(time=date_new)['cloud_mask'].plot()\n",
    "    plt.show()\n",
    "    print('Showing cloud mask for day {}'.format(date))\n",
    "    mask_clouds['ndvi'].sel(time=date_new, method='nearest').plot()\n",
    "    plt.show()\n",
    "    print('NDVI for SEVIRI for day {}'.format(date))"
   ]
  },
  {
   "cell_type": "code",
   "execution_count": 25,
   "metadata": {},
   "outputs": [
    {
     "name": "stderr",
     "output_type": "stream",
     "text": [
      " c:\\users\\riccardo\\desktop\\phd_docs\\drought_prediction\\project\\indices_analysis\\p_drought_indices\\vegetation\\NDVI_indices.py:59: RuntimeWarning:invalid value encountered in true_divide\n"
     ]
    }
   ],
   "source": [
    "vci = compute_vci(veg_df['ndvi'])\n",
    "#res = compute_svi(res_xr)\n",
    "vci.to_netcdf(r'D:\\shareVM\\MSG\\msg_data\\processed\\vci_1D.nc')\n",
    "#res.to_netcdf(r'D:\\shareVM\\MSG\\msg_data\\processed\\svi_1D.nc')"
   ]
  },
  {
   "cell_type": "markdown",
   "metadata": {},
   "source": [
    "### Correlating SPI and VCI"
   ]
  },
  {
   "cell_type": "code",
   "execution_count": 3,
   "metadata": {},
   "outputs": [],
   "source": [
    "metrics_df = spi.compute_metrics_soil()"
   ]
  },
  {
   "cell_type": "code",
   "execution_count": 4,
   "metadata": {},
   "outputs": [
    {
     "data": {
      "text/html": [
       "<div>\n",
       "<style scoped>\n",
       "    .dataframe tbody tr th:only-of-type {\n",
       "        vertical-align: middle;\n",
       "    }\n",
       "\n",
       "    .dataframe tbody tr th {\n",
       "        vertical-align: top;\n",
       "    }\n",
       "\n",
       "    .dataframe thead th {\n",
       "        text-align: right;\n",
       "    }\n",
       "</style>\n",
       "<table border=\"1\" class=\"dataframe\">\n",
       "  <thead>\n",
       "    <tr style=\"text-align: right;\">\n",
       "      <th></th>\n",
       "      <th>accuracy_m</th>\n",
       "      <th>far_m</th>\n",
       "      <th>pod_m</th>\n",
       "      <th>rmse_m</th>\n",
       "      <th>mse_m</th>\n",
       "      <th>product</th>\n",
       "      <th>veg_idx</th>\n",
       "      <th>precp_idx</th>\n",
       "      <th>land_cat</th>\n",
       "      <th>description</th>\n",
       "    </tr>\n",
       "  </thead>\n",
       "  <tbody>\n",
       "    <tr>\n",
       "      <th>0</th>\n",
       "      <td>0.234405</td>\n",
       "      <td>0.964764</td>\n",
       "      <td>0.978933</td>\n",
       "      <td>0.868902</td>\n",
       "      <td>0.765595</td>\n",
       "      <td>IMERG</td>\n",
       "      <td>vci</td>\n",
       "      <td>spi_gamma_180</td>\n",
       "      <td>20</td>\n",
       "      <td>Shrubs</td>\n",
       "    </tr>\n",
       "    <tr>\n",
       "      <th>1</th>\n",
       "      <td>0.206301</td>\n",
       "      <td>0.95819</td>\n",
       "      <td>0.969593</td>\n",
       "      <td>0.886741</td>\n",
       "      <td>0.793699</td>\n",
       "      <td>IMERG</td>\n",
       "      <td>vci</td>\n",
       "      <td>spi_gamma_180</td>\n",
       "      <td>40</td>\n",
       "      <td>Cultivated and managed vegetation/agriculture</td>\n",
       "    </tr>\n",
       "    <tr>\n",
       "      <th>2</th>\n",
       "      <td>0.236052</td>\n",
       "      <td>0.953933</td>\n",
       "      <td>0.97944</td>\n",
       "      <td>0.864476</td>\n",
       "      <td>0.763948</td>\n",
       "      <td>IMERG</td>\n",
       "      <td>vci</td>\n",
       "      <td>spi_gamma_180</td>\n",
       "      <td>60</td>\n",
       "      <td>Bare</td>\n",
       "    </tr>\n",
       "    <tr>\n",
       "      <th>3</th>\n",
       "      <td>0.232019</td>\n",
       "      <td>0.973878</td>\n",
       "      <td>0.988561</td>\n",
       "      <td>0.869351</td>\n",
       "      <td>0.767981</td>\n",
       "      <td>IMERG</td>\n",
       "      <td>vci</td>\n",
       "      <td>spi_gamma_180</td>\n",
       "      <td>30</td>\n",
       "      <td>Herbaceous vegetation</td>\n",
       "    </tr>\n",
       "    <tr>\n",
       "      <th>4</th>\n",
       "      <td>0.205982</td>\n",
       "      <td>0.967733</td>\n",
       "      <td>0.974512</td>\n",
       "      <td>0.887208</td>\n",
       "      <td>0.794018</td>\n",
       "      <td>IMERG</td>\n",
       "      <td>vci</td>\n",
       "      <td>spi_gamma_180</td>\n",
       "      <td>126</td>\n",
       "      <td>Open forest, not matching any of the others</td>\n",
       "    </tr>\n",
       "    <tr>\n",
       "      <th>5</th>\n",
       "      <td>0.097371</td>\n",
       "      <td>0.961133</td>\n",
       "      <td>0.978143</td>\n",
       "      <td>0.94919</td>\n",
       "      <td>0.902629</td>\n",
       "      <td>IMERG</td>\n",
       "      <td>vci</td>\n",
       "      <td>spi_gamma_180</td>\n",
       "      <td>80</td>\n",
       "      <td>Permanent water bodies</td>\n",
       "    </tr>\n",
       "    <tr>\n",
       "      <th>6</th>\n",
       "      <td>0.230306</td>\n",
       "      <td>0.937262</td>\n",
       "      <td>0.944719</td>\n",
       "      <td>0.86875</td>\n",
       "      <td>0.769694</td>\n",
       "      <td>IMERG</td>\n",
       "      <td>vci</td>\n",
       "      <td>spi_gamma_180</td>\n",
       "      <td>124</td>\n",
       "      <td>Open forest, deciduous broad leaf</td>\n",
       "    </tr>\n",
       "    <tr>\n",
       "      <th>7</th>\n",
       "      <td>0.188207</td>\n",
       "      <td>1.0</td>\n",
       "      <td>1.0</td>\n",
       "      <td>0.874614</td>\n",
       "      <td>0.811793</td>\n",
       "      <td>IMERG</td>\n",
       "      <td>vci</td>\n",
       "      <td>spi_gamma_180</td>\n",
       "      <td>50</td>\n",
       "      <td>Urban</td>\n",
       "    </tr>\n",
       "    <tr>\n",
       "      <th>8</th>\n",
       "      <td>0.200249</td>\n",
       "      <td>0.974444</td>\n",
       "      <td>0.9824</td>\n",
       "      <td>0.889157</td>\n",
       "      <td>0.799751</td>\n",
       "      <td>IMERG</td>\n",
       "      <td>vci</td>\n",
       "      <td>spi_gamma_180</td>\n",
       "      <td>116</td>\n",
       "      <td>Closed forest, not matching any of the others</td>\n",
       "    </tr>\n",
       "    <tr>\n",
       "      <th>9</th>\n",
       "      <td>0.2491</td>\n",
       "      <td>0.902127</td>\n",
       "      <td>0.949245</td>\n",
       "      <td>0.850915</td>\n",
       "      <td>0.7509</td>\n",
       "      <td>IMERG</td>\n",
       "      <td>vci</td>\n",
       "      <td>spi_gamma_180</td>\n",
       "      <td>200</td>\n",
       "      <td>Oceans, seas</td>\n",
       "    </tr>\n",
       "    <tr>\n",
       "      <th>10</th>\n",
       "      <td>0.206113</td>\n",
       "      <td>0.947718</td>\n",
       "      <td>0.96233</td>\n",
       "      <td>0.886636</td>\n",
       "      <td>0.793887</td>\n",
       "      <td>IMERG</td>\n",
       "      <td>vci</td>\n",
       "      <td>spi_gamma_180</td>\n",
       "      <td>114</td>\n",
       "      <td>Closed forest, deciduous broad leaf</td>\n",
       "    </tr>\n",
       "    <tr>\n",
       "      <th>11</th>\n",
       "      <td>0.200438</td>\n",
       "      <td>0.945319</td>\n",
       "      <td>0.986213</td>\n",
       "      <td>0.88893</td>\n",
       "      <td>0.799562</td>\n",
       "      <td>IMERG</td>\n",
       "      <td>vci</td>\n",
       "      <td>spi_gamma_180</td>\n",
       "      <td>90</td>\n",
       "      <td>Herbaceous wetland</td>\n",
       "    </tr>\n",
       "    <tr>\n",
       "      <th>12</th>\n",
       "      <td>0.196114</td>\n",
       "      <td>0.967757</td>\n",
       "      <td>0.979312</td>\n",
       "      <td>0.890502</td>\n",
       "      <td>0.803886</td>\n",
       "      <td>IMERG</td>\n",
       "      <td>vci</td>\n",
       "      <td>spi_gamma_180</td>\n",
       "      <td>112</td>\n",
       "      <td>Closed forest, evergreen broad leaf</td>\n",
       "    </tr>\n",
       "  </tbody>\n",
       "</table>\n",
       "</div>"
      ],
      "text/plain": [
       "   accuracy_m     far_m     pod_m    rmse_m     mse_m product veg_idx  \\\n",
       "0    0.234405  0.964764  0.978933  0.868902  0.765595   IMERG     vci   \n",
       "1    0.206301   0.95819  0.969593  0.886741  0.793699   IMERG     vci   \n",
       "2    0.236052  0.953933   0.97944  0.864476  0.763948   IMERG     vci   \n",
       "3    0.232019  0.973878  0.988561  0.869351  0.767981   IMERG     vci   \n",
       "4    0.205982  0.967733  0.974512  0.887208  0.794018   IMERG     vci   \n",
       "5    0.097371  0.961133  0.978143   0.94919  0.902629   IMERG     vci   \n",
       "6    0.230306  0.937262  0.944719   0.86875  0.769694   IMERG     vci   \n",
       "7    0.188207       1.0       1.0  0.874614  0.811793   IMERG     vci   \n",
       "8    0.200249  0.974444    0.9824  0.889157  0.799751   IMERG     vci   \n",
       "9      0.2491  0.902127  0.949245  0.850915    0.7509   IMERG     vci   \n",
       "10   0.206113  0.947718   0.96233  0.886636  0.793887   IMERG     vci   \n",
       "11   0.200438  0.945319  0.986213   0.88893  0.799562   IMERG     vci   \n",
       "12   0.196114  0.967757  0.979312  0.890502  0.803886   IMERG     vci   \n",
       "\n",
       "        precp_idx  land_cat                                    description  \n",
       "0   spi_gamma_180        20                                         Shrubs  \n",
       "1   spi_gamma_180        40  Cultivated and managed vegetation/agriculture  \n",
       "2   spi_gamma_180        60                                           Bare  \n",
       "3   spi_gamma_180        30                          Herbaceous vegetation  \n",
       "4   spi_gamma_180       126    Open forest, not matching any of the others  \n",
       "5   spi_gamma_180        80                         Permanent water bodies  \n",
       "6   spi_gamma_180       124              Open forest, deciduous broad leaf  \n",
       "7   spi_gamma_180        50                                          Urban  \n",
       "8   spi_gamma_180       116  Closed forest, not matching any of the others  \n",
       "9   spi_gamma_180       200                                   Oceans, seas  \n",
       "10  spi_gamma_180       114            Closed forest, deciduous broad leaf  \n",
       "11  spi_gamma_180        90                             Herbaceous wetland  \n",
       "12  spi_gamma_180       112            Closed forest, evergreen broad leaf  "
      ]
     },
     "execution_count": 4,
     "metadata": {},
     "output_type": "execute_result"
    }
   ],
   "source": [
    "metrics_df"
   ]
  },
  {
   "cell_type": "code",
   "execution_count": 15,
   "metadata": {},
   "outputs": [
    {
     "data": {
      "text/plain": [
       "<matplotlib.collections.QuadMesh at 0x1c9b1b87940>"
      ]
     },
     "execution_count": 15,
     "metadata": {},
     "output_type": "execute_result"
    },
    {
     "data": {
      "image/png": "[encoded data removed]",
      "text/plain": [
       "<Figure size 432x288 with 2 Axes>"
      ]
     },
     "metadata": {
      "needs_background": "light"
     },
     "output_type": "display_data"
    }
   ],
   "source": [
    "spi.dataset.where(spi.dataset['land']==40)['drt_veg'].mean(['time']).plot()"
   ]
  },
  {
   "cell_type": "code",
   "execution_count": 16,
   "metadata": {},
   "outputs": [],
   "source": [
    "from p_drought_indices.ancillary_vars.esa_landuse import get_level_colors\n",
    "ds_cover = xr.open_dataset(r'../data/images/esa_cover.nc')\n",
    "ds_cover = subsetting_pipeline(CONFIG_PATH, ds_cover, invert=False)\n",
    "cmap, levels = get_level_colors(ds_cover)\n",
    "land_categories = ds_cover.to_dataframe()['Band1'].dropna().astype(int).unique().tolist()\n",
    "res = ds_cover['Band1'].rio.reproject_match(spi.dataset[var_target])\n",
    "res = res.rename({'x':'lon','y':'lat'})\n",
    "time_dim = spi.dataset['time'].values\n",
    "time_da = xr.DataArray(time_dim, [('time', time_dim)])\n",
    "res = res.expand_dims(time=time_da)\n",
    "dataset = spi.dataset.assign(land = res)"
   ]
  }
 ],
 "metadata": {
  "kernelspec": {
   "display_name": "Python 3.10.2 ('gis2_py39')",
   "language": "python",
   "name": "python3"
  },
  "language_info": {
   "codemirror_mode": {
    "name": "ipython",
    "version": 3
   },
   "file_extension": ".py",
   "mimetype": "text/x-python",
   "name": "python",
   "nbconvert_exporter": "python",
   "pygments_lexer": "ipython3",
   "version": "3.10.2"
  },
  "orig_nbformat": 4,
  "vscode": {
   "interpreter": {
    "hash": "a1acf0cf36a713a20e6f2f6b404d47f8424c3d1e89d00c3598e855a17bfb20dd"
   }
  }
 },
 "nbformat": 4,
 "nbformat_minor": 2
}
